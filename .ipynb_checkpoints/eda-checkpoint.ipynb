{
 "cells": [
  {
   "cell_type": "code",
   "execution_count": 674,
   "id": "5e9db8c0",
   "metadata": {},
   "outputs": [],
   "source": [
    "import sqlite3\n",
    "import pandas as pd\n",
    "import numpy as np\n",
    "import matplotlib.pyplot as plt\n",
    "\n",
    "# Create the connection\n",
    "db = sqlite3.connect(r'C:\\Users\\Admin\\Desktop\\Khatra\\fishing.db')"
   ]
  },
  {
   "cell_type": "code",
   "execution_count": 675,
   "id": "c05d4447",
   "metadata": {},
   "outputs": [],
   "source": [
    "#  create the dataframe from a query\n",
    "df = pd.read_sql_query(\"SELECT * FROM fishing\", db)\n",
    "df_new=df"
   ]
  },
  {
   "cell_type": "code",
   "execution_count": 676,
   "id": "7db95739",
   "metadata": {},
   "outputs": [
    {
     "data": {
      "text/plain": [
       "(12997, 21)"
      ]
     },
     "execution_count": 676,
     "metadata": {},
     "output_type": "execute_result"
    }
   ],
   "source": [
    "# Shape of the dataset\n",
    "df.shape"
   ]
  },
  {
   "cell_type": "markdown",
   "id": "130f5337",
   "metadata": {},
   "source": [
    "There are 12997 rows and toal 21 features(including label)"
   ]
  },
  {
   "cell_type": "code",
   "execution_count": 677,
   "id": "d7a0c603",
   "metadata": {},
   "outputs": [
    {
     "data": {
      "text/html": [
       "<div>\n",
       "<style scoped>\n",
       "    .dataframe tbody tr th:only-of-type {\n",
       "        vertical-align: middle;\n",
       "    }\n",
       "\n",
       "    .dataframe tbody tr th {\n",
       "        vertical-align: top;\n",
       "    }\n",
       "\n",
       "    .dataframe thead th {\n",
       "        text-align: right;\n",
       "    }\n",
       "</style>\n",
       "<table border=\"1\" class=\"dataframe\">\n",
       "  <thead>\n",
       "    <tr style=\"text-align: right;\">\n",
       "      <th></th>\n",
       "      <th>Date</th>\n",
       "      <th>Location</th>\n",
       "      <th>Rainfall</th>\n",
       "      <th>Evaporation</th>\n",
       "      <th>Sunshine</th>\n",
       "      <th>WindGustDir</th>\n",
       "      <th>WindGustSpeed</th>\n",
       "      <th>WindDir9am</th>\n",
       "      <th>WindDir3pm</th>\n",
       "      <th>WindSpeed9am</th>\n",
       "      <th>...</th>\n",
       "      <th>Humidity9am</th>\n",
       "      <th>Humidity3pm</th>\n",
       "      <th>Pressure9am</th>\n",
       "      <th>Pressure3pm</th>\n",
       "      <th>Cloud9am</th>\n",
       "      <th>Cloud3pm</th>\n",
       "      <th>RainToday</th>\n",
       "      <th>RainTomorrow</th>\n",
       "      <th>ColourOfBoats</th>\n",
       "      <th>AverageTemp</th>\n",
       "    </tr>\n",
       "  </thead>\n",
       "  <tbody>\n",
       "    <tr>\n",
       "      <th>0</th>\n",
       "      <td>2009-03-08</td>\n",
       "      <td>Changi</td>\n",
       "      <td>0.0</td>\n",
       "      <td>7.0</td>\n",
       "      <td>11.2</td>\n",
       "      <td>E</td>\n",
       "      <td>35.0</td>\n",
       "      <td>E</td>\n",
       "      <td>ESE</td>\n",
       "      <td>15.0</td>\n",
       "      <td>...</td>\n",
       "      <td>60.0</td>\n",
       "      <td>54.0</td>\n",
       "      <td>MED</td>\n",
       "      <td>Med</td>\n",
       "      <td>4.0</td>\n",
       "      <td>5.0</td>\n",
       "      <td>No</td>\n",
       "      <td>No</td>\n",
       "      <td>blue</td>\n",
       "      <td>33.4</td>\n",
       "    </tr>\n",
       "    <tr>\n",
       "      <th>1</th>\n",
       "      <td>2014-11-12</td>\n",
       "      <td>Woodlands</td>\n",
       "      <td>0.0</td>\n",
       "      <td>8.4</td>\n",
       "      <td>9.6</td>\n",
       "      <td>WNW</td>\n",
       "      <td>37.0</td>\n",
       "      <td>NNE</td>\n",
       "      <td>NW</td>\n",
       "      <td>13.0</td>\n",
       "      <td>...</td>\n",
       "      <td>60.0</td>\n",
       "      <td>56.0</td>\n",
       "      <td>MeD</td>\n",
       "      <td>LOw</td>\n",
       "      <td>1.0</td>\n",
       "      <td>2.0</td>\n",
       "      <td>None</td>\n",
       "      <td>Yes</td>\n",
       "      <td>blue</td>\n",
       "      <td>35.4</td>\n",
       "    </tr>\n",
       "    <tr>\n",
       "      <th>2</th>\n",
       "      <td>2008-08-08</td>\n",
       "      <td>Woodlands</td>\n",
       "      <td>0.0</td>\n",
       "      <td>7.6</td>\n",
       "      <td>11.1</td>\n",
       "      <td>ESE</td>\n",
       "      <td>52.0</td>\n",
       "      <td>SE</td>\n",
       "      <td>E</td>\n",
       "      <td>19.0</td>\n",
       "      <td>...</td>\n",
       "      <td>NaN</td>\n",
       "      <td>13.0</td>\n",
       "      <td>Med</td>\n",
       "      <td>MEd</td>\n",
       "      <td>0.0</td>\n",
       "      <td>0.0</td>\n",
       "      <td>None</td>\n",
       "      <td>No</td>\n",
       "      <td>blue</td>\n",
       "      <td>32.8</td>\n",
       "    </tr>\n",
       "    <tr>\n",
       "      <th>3</th>\n",
       "      <td>2015-10-12</td>\n",
       "      <td>Changi</td>\n",
       "      <td>0.0</td>\n",
       "      <td>7.2</td>\n",
       "      <td>11.4</td>\n",
       "      <td>NE</td>\n",
       "      <td>31.0</td>\n",
       "      <td>NNW</td>\n",
       "      <td>NE</td>\n",
       "      <td>9.0</td>\n",
       "      <td>...</td>\n",
       "      <td>51.0</td>\n",
       "      <td>53.0</td>\n",
       "      <td>hIgh</td>\n",
       "      <td>med</td>\n",
       "      <td>1.0</td>\n",
       "      <td>1.0</td>\n",
       "      <td>No</td>\n",
       "      <td>No</td>\n",
       "      <td>red</td>\n",
       "      <td>31.4</td>\n",
       "    </tr>\n",
       "    <tr>\n",
       "      <th>4</th>\n",
       "      <td>2013-10-27</td>\n",
       "      <td>Woodlands</td>\n",
       "      <td>5.6</td>\n",
       "      <td>7.0</td>\n",
       "      <td>8.5</td>\n",
       "      <td>NNW</td>\n",
       "      <td>33.0</td>\n",
       "      <td>N</td>\n",
       "      <td>N</td>\n",
       "      <td>13.0</td>\n",
       "      <td>...</td>\n",
       "      <td>68.0</td>\n",
       "      <td>64.0</td>\n",
       "      <td>meD</td>\n",
       "      <td>MeD</td>\n",
       "      <td>6.0</td>\n",
       "      <td>5.0</td>\n",
       "      <td>None</td>\n",
       "      <td>No</td>\n",
       "      <td>grey</td>\n",
       "      <td>35.4</td>\n",
       "    </tr>\n",
       "  </tbody>\n",
       "</table>\n",
       "<p>5 rows × 21 columns</p>\n",
       "</div>"
      ],
      "text/plain": [
       "         Date   Location  Rainfall  Evaporation  Sunshine WindGustDir  \\\n",
       "0  2009-03-08     Changi       0.0          7.0      11.2           E   \n",
       "1  2014-11-12  Woodlands       0.0          8.4       9.6         WNW   \n",
       "2  2008-08-08  Woodlands       0.0          7.6      11.1         ESE   \n",
       "3  2015-10-12     Changi       0.0          7.2      11.4          NE   \n",
       "4  2013-10-27  Woodlands       5.6          7.0       8.5         NNW   \n",
       "\n",
       "   WindGustSpeed WindDir9am WindDir3pm  WindSpeed9am  ...  Humidity9am  \\\n",
       "0           35.0          E        ESE          15.0  ...         60.0   \n",
       "1           37.0        NNE         NW          13.0  ...         60.0   \n",
       "2           52.0         SE          E          19.0  ...          NaN   \n",
       "3           31.0        NNW         NE           9.0  ...         51.0   \n",
       "4           33.0          N          N          13.0  ...         68.0   \n",
       "\n",
       "   Humidity3pm  Pressure9am Pressure3pm Cloud9am  Cloud3pm  RainToday  \\\n",
       "0         54.0          MED         Med      4.0       5.0         No   \n",
       "1         56.0          MeD         LOw      1.0       2.0       None   \n",
       "2         13.0          Med         MEd      0.0       0.0       None   \n",
       "3         53.0         hIgh         med      1.0       1.0         No   \n",
       "4         64.0          meD         MeD      6.0       5.0       None   \n",
       "\n",
       "  RainTomorrow ColourOfBoats AverageTemp  \n",
       "0           No          blue        33.4  \n",
       "1          Yes          blue        35.4  \n",
       "2           No          blue        32.8  \n",
       "3           No           red        31.4  \n",
       "4           No          grey        35.4  \n",
       "\n",
       "[5 rows x 21 columns]"
      ]
     },
     "execution_count": 677,
     "metadata": {},
     "output_type": "execute_result"
    }
   ],
   "source": [
    "# gives first 5 rows of dataframe\n",
    "df.head()"
   ]
  },
  {
   "cell_type": "code",
   "execution_count": 678,
   "id": "98066dc2",
   "metadata": {},
   "outputs": [
    {
     "name": "stdout",
     "output_type": "stream",
     "text": [
      "<class 'pandas.core.frame.DataFrame'>\n",
      "RangeIndex: 12997 entries, 0 to 12996\n",
      "Data columns (total 21 columns):\n",
      " #   Column         Non-Null Count  Dtype  \n",
      "---  ------         --------------  -----  \n",
      " 0   Date           12997 non-null  object \n",
      " 1   Location       12997 non-null  object \n",
      " 2   Rainfall       12997 non-null  float64\n",
      " 3   Evaporation    12917 non-null  float64\n",
      " 4   Sunshine       12939 non-null  float64\n",
      " 5   WindGustDir    12913 non-null  object \n",
      " 6   WindGustSpeed  12917 non-null  float64\n",
      " 7   WindDir9am     12697 non-null  object \n",
      " 8   WindDir3pm     12945 non-null  object \n",
      " 9   WindSpeed9am   12992 non-null  float64\n",
      " 10  WindSpeed3pm   12991 non-null  float64\n",
      " 11  Humidity9am    12983 non-null  float64\n",
      " 12  Humidity3pm    12970 non-null  float64\n",
      " 13  Pressure9am    12995 non-null  object \n",
      " 14  Pressure3pm    12989 non-null  object \n",
      " 15  Cloud9am       12693 non-null  float64\n",
      " 16  Cloud3pm       12615 non-null  float64\n",
      " 17  RainToday      9799 non-null   object \n",
      " 18  RainTomorrow   12997 non-null  object \n",
      " 19  ColourOfBoats  12997 non-null  object \n",
      " 20  AverageTemp    12988 non-null  float64\n",
      "dtypes: float64(11), object(10)\n",
      "memory usage: 2.1+ MB\n"
     ]
    }
   ],
   "source": [
    "# for know about data tyes and not-null counts\n",
    "df.info()"
   ]
  },
  {
   "cell_type": "code",
   "execution_count": 679,
   "id": "10a1c865",
   "metadata": {},
   "outputs": [
    {
     "data": {
      "text/html": [
       "<div>\n",
       "<style scoped>\n",
       "    .dataframe tbody tr th:only-of-type {\n",
       "        vertical-align: middle;\n",
       "    }\n",
       "\n",
       "    .dataframe tbody tr th {\n",
       "        vertical-align: top;\n",
       "    }\n",
       "\n",
       "    .dataframe thead th {\n",
       "        text-align: right;\n",
       "    }\n",
       "</style>\n",
       "<table border=\"1\" class=\"dataframe\">\n",
       "  <thead>\n",
       "    <tr style=\"text-align: right;\">\n",
       "      <th></th>\n",
       "      <th>Rainfall</th>\n",
       "      <th>Evaporation</th>\n",
       "      <th>Sunshine</th>\n",
       "      <th>WindGustSpeed</th>\n",
       "      <th>WindSpeed9am</th>\n",
       "      <th>WindSpeed3pm</th>\n",
       "      <th>Humidity9am</th>\n",
       "      <th>Humidity3pm</th>\n",
       "      <th>Cloud9am</th>\n",
       "      <th>Cloud3pm</th>\n",
       "      <th>AverageTemp</th>\n",
       "    </tr>\n",
       "  </thead>\n",
       "  <tbody>\n",
       "    <tr>\n",
       "      <th>count</th>\n",
       "      <td>12997.000000</td>\n",
       "      <td>12917.000000</td>\n",
       "      <td>12939.000000</td>\n",
       "      <td>12917.000000</td>\n",
       "      <td>12992.000000</td>\n",
       "      <td>12991.000000</td>\n",
       "      <td>12983.000000</td>\n",
       "      <td>12970.000000</td>\n",
       "      <td>12693.000000</td>\n",
       "      <td>12615.000000</td>\n",
       "      <td>12988.000000</td>\n",
       "    </tr>\n",
       "    <tr>\n",
       "      <th>mean</th>\n",
       "      <td>3.040532</td>\n",
       "      <td>5.551955</td>\n",
       "      <td>6.496236</td>\n",
       "      <td>36.640164</td>\n",
       "      <td>12.456974</td>\n",
       "      <td>16.703102</td>\n",
       "      <td>65.476623</td>\n",
       "      <td>50.818813</td>\n",
       "      <td>4.108879</td>\n",
       "      <td>4.124138</td>\n",
       "      <td>31.522144</td>\n",
       "    </tr>\n",
       "    <tr>\n",
       "      <th>std</th>\n",
       "      <td>10.958255</td>\n",
       "      <td>2.898708</td>\n",
       "      <td>6.026236</td>\n",
       "      <td>12.628845</td>\n",
       "      <td>8.341814</td>\n",
       "      <td>7.882508</td>\n",
       "      <td>15.460822</td>\n",
       "      <td>16.865362</td>\n",
       "      <td>2.727825</td>\n",
       "      <td>2.646195</td>\n",
       "      <td>2.960591</td>\n",
       "    </tr>\n",
       "    <tr>\n",
       "      <th>min</th>\n",
       "      <td>0.000000</td>\n",
       "      <td>0.000000</td>\n",
       "      <td>-13.500000</td>\n",
       "      <td>9.000000</td>\n",
       "      <td>0.000000</td>\n",
       "      <td>0.000000</td>\n",
       "      <td>11.000000</td>\n",
       "      <td>5.000000</td>\n",
       "      <td>0.000000</td>\n",
       "      <td>0.000000</td>\n",
       "      <td>24.300000</td>\n",
       "    </tr>\n",
       "    <tr>\n",
       "      <th>25%</th>\n",
       "      <td>0.000000</td>\n",
       "      <td>3.400000</td>\n",
       "      <td>3.950000</td>\n",
       "      <td>28.000000</td>\n",
       "      <td>7.000000</td>\n",
       "      <td>11.000000</td>\n",
       "      <td>56.000000</td>\n",
       "      <td>40.000000</td>\n",
       "      <td>1.000000</td>\n",
       "      <td>1.000000</td>\n",
       "      <td>29.100000</td>\n",
       "    </tr>\n",
       "    <tr>\n",
       "      <th>50%</th>\n",
       "      <td>0.000000</td>\n",
       "      <td>5.400000</td>\n",
       "      <td>8.700000</td>\n",
       "      <td>35.000000</td>\n",
       "      <td>11.000000</td>\n",
       "      <td>15.000000</td>\n",
       "      <td>66.000000</td>\n",
       "      <td>51.000000</td>\n",
       "      <td>4.000000</td>\n",
       "      <td>4.000000</td>\n",
       "      <td>31.700000</td>\n",
       "    </tr>\n",
       "    <tr>\n",
       "      <th>75%</th>\n",
       "      <td>0.800000</td>\n",
       "      <td>7.400000</td>\n",
       "      <td>10.700000</td>\n",
       "      <td>43.000000</td>\n",
       "      <td>17.000000</td>\n",
       "      <td>20.000000</td>\n",
       "      <td>76.000000</td>\n",
       "      <td>61.000000</td>\n",
       "      <td>7.000000</td>\n",
       "      <td>7.000000</td>\n",
       "      <td>34.200000</td>\n",
       "    </tr>\n",
       "    <tr>\n",
       "      <th>max</th>\n",
       "      <td>367.600000</td>\n",
       "      <td>44.000000</td>\n",
       "      <td>13.900000</td>\n",
       "      <td>126.000000</td>\n",
       "      <td>65.000000</td>\n",
       "      <td>76.000000</td>\n",
       "      <td>100.000000</td>\n",
       "      <td>100.000000</td>\n",
       "      <td>8.000000</td>\n",
       "      <td>8.000000</td>\n",
       "      <td>38.500000</td>\n",
       "    </tr>\n",
       "  </tbody>\n",
       "</table>\n",
       "</div>"
      ],
      "text/plain": [
       "           Rainfall   Evaporation      Sunshine  WindGustSpeed  WindSpeed9am  \\\n",
       "count  12997.000000  12917.000000  12939.000000   12917.000000  12992.000000   \n",
       "mean       3.040532      5.551955      6.496236      36.640164     12.456974   \n",
       "std       10.958255      2.898708      6.026236      12.628845      8.341814   \n",
       "min        0.000000      0.000000    -13.500000       9.000000      0.000000   \n",
       "25%        0.000000      3.400000      3.950000      28.000000      7.000000   \n",
       "50%        0.000000      5.400000      8.700000      35.000000     11.000000   \n",
       "75%        0.800000      7.400000     10.700000      43.000000     17.000000   \n",
       "max      367.600000     44.000000     13.900000     126.000000     65.000000   \n",
       "\n",
       "       WindSpeed3pm   Humidity9am   Humidity3pm      Cloud9am      Cloud3pm  \\\n",
       "count  12991.000000  12983.000000  12970.000000  12693.000000  12615.000000   \n",
       "mean      16.703102     65.476623     50.818813      4.108879      4.124138   \n",
       "std        7.882508     15.460822     16.865362      2.727825      2.646195   \n",
       "min        0.000000     11.000000      5.000000      0.000000      0.000000   \n",
       "25%       11.000000     56.000000     40.000000      1.000000      1.000000   \n",
       "50%       15.000000     66.000000     51.000000      4.000000      4.000000   \n",
       "75%       20.000000     76.000000     61.000000      7.000000      7.000000   \n",
       "max       76.000000    100.000000    100.000000      8.000000      8.000000   \n",
       "\n",
       "        AverageTemp  \n",
       "count  12988.000000  \n",
       "mean      31.522144  \n",
       "std        2.960591  \n",
       "min       24.300000  \n",
       "25%       29.100000  \n",
       "50%       31.700000  \n",
       "75%       34.200000  \n",
       "max       38.500000  "
      ]
     },
     "execution_count": 679,
     "metadata": {},
     "output_type": "execute_result"
    }
   ],
   "source": [
    "# gives statistical analysis of features\n",
    "df.describe()"
   ]
  },
  {
   "cell_type": "markdown",
   "id": "6568a8a9",
   "metadata": {},
   "source": [
    "there should be outliers in 'Rainfall' because  mean=10 and 75% is 0.800000 but max is 367.6 and same thing for 'Evaporation' and 'WindGustSpeed'\n",
    "in 'WindSpeed9am' and 'WindSpeed3pm' also some outliers but it will not affect much because they are reasonable values \t"
   ]
  },
  {
   "cell_type": "code",
   "execution_count": 680,
   "id": "f6c093f4",
   "metadata": {},
   "outputs": [
    {
     "data": {
      "text/plain": [
       "['Date',\n",
       " 'Location',\n",
       " 'Rainfall',\n",
       " 'Evaporation',\n",
       " 'Sunshine',\n",
       " 'WindGustDir',\n",
       " 'WindGustSpeed',\n",
       " 'WindDir9am',\n",
       " 'WindDir3pm',\n",
       " 'WindSpeed9am',\n",
       " 'WindSpeed3pm',\n",
       " 'Humidity9am',\n",
       " 'Humidity3pm',\n",
       " 'Pressure9am',\n",
       " 'Pressure3pm',\n",
       " 'Cloud9am',\n",
       " 'Cloud3pm',\n",
       " 'RainToday',\n",
       " 'RainTomorrow',\n",
       " 'ColourOfBoats',\n",
       " 'AverageTemp']"
      ]
     },
     "execution_count": 680,
     "metadata": {},
     "output_type": "execute_result"
    }
   ],
   "source": [
    "# get feature names\n",
    "cols=df.columns.values.tolist()\n",
    "cols"
   ]
  },
  {
   "cell_type": "code",
   "execution_count": 681,
   "id": "3e7fec83",
   "metadata": {},
   "outputs": [
    {
     "name": "stdout",
     "output_type": "stream",
     "text": [
      "Date: 0\n",
      "Location: 0\n",
      "Rainfall: 0\n",
      "Evaporation: 80\n",
      "Sunshine: 58\n",
      "WindGustDir: 84\n",
      "WindGustSpeed: 80\n",
      "WindDir9am: 300\n",
      "WindDir3pm: 52\n",
      "WindSpeed9am: 5\n",
      "WindSpeed3pm: 6\n",
      "Humidity9am: 14\n",
      "Humidity3pm: 27\n",
      "Pressure9am: 2\n",
      "Pressure3pm: 8\n",
      "Cloud9am: 304\n",
      "Cloud3pm: 382\n",
      "RainToday: 3198\n",
      "RainTomorrow: 0\n",
      "ColourOfBoats: 0\n",
      "AverageTemp: 9\n"
     ]
    }
   ],
   "source": [
    "# number of null values in each features \n",
    "for i in cols:\n",
    "    print(i + \": \" + f'{df[i].isnull().sum()}')"
   ]
  },
  {
   "cell_type": "markdown",
   "id": "dcd40122",
   "metadata": {},
   "source": [
    "there are all columns have null values except 'Date', 'Location', 'Rainfall', 'RainTomorrow' and 'ColourOfBoats'"
   ]
  },
  {
   "cell_type": "markdown",
   "id": "6bf87aa1",
   "metadata": {},
   "source": [
    "## __EDA and pre-processing for numerical features__"
   ]
  },
  {
   "cell_type": "code",
   "execution_count": 682,
   "id": "c307e8b4",
   "metadata": {},
   "outputs": [
    {
     "data": {
      "text/plain": [
       "[<matplotlib.lines.Line2D at 0x27b7b0e77c0>]"
      ]
     },
     "execution_count": 682,
     "metadata": {},
     "output_type": "execute_result"
    },
    {
     "data": {
      "image/png": "[encoded data removed]",
      "text/plain": [
       "<Figure size 432x288 with 1 Axes>"
      ]
     },
     "metadata": {
      "needs_background": "light"
     },
     "output_type": "display_data"
    }
   ],
   "source": [
    "# visualise all the features individually\n",
    "plt.plot(df_new['Rainfall'])"
   ]
  },
  {
   "cell_type": "code",
   "execution_count": 683,
   "id": "85b0bf89",
   "metadata": {},
   "outputs": [
    {
     "data": {
      "text/plain": [
       "{'whiskers': [<matplotlib.lines.Line2D at 0x27b6dfdce50>,\n",
       "  <matplotlib.lines.Line2D at 0x27b6dfdc4c0>],\n",
       " 'caps': [<matplotlib.lines.Line2D at 0x27b6dfdcd60>,\n",
       "  <matplotlib.lines.Line2D at 0x27b6dfdc6d0>],\n",
       " 'boxes': [<matplotlib.lines.Line2D at 0x27b6dfdc3d0>],\n",
       " 'medians': [<matplotlib.lines.Line2D at 0x27b7b8f8130>],\n",
       " 'fliers': [<matplotlib.lines.Line2D at 0x27b7b8f8bb0>],\n",
       " 'means': []}"
      ]
     },
     "execution_count": 683,
     "metadata": {},
     "output_type": "execute_result"
    },
    {
     "data": {
      "image/png": "[encoded data removed]",
      "text/plain": [
       "<Figure size 432x288 with 1 Axes>"
      ]
     },
     "metadata": {
      "needs_background": "light"
     },
     "output_type": "display_data"
    }
   ],
   "source": [
    "plt.boxplot(df_new['Rainfall'])"
   ]
  },
  {
   "cell_type": "code",
   "execution_count": 684,
   "id": "98c131b5",
   "metadata": {},
   "outputs": [
    {
     "name": "stdout",
     "output_type": "stream",
     "text": [
      "95% below : 16.8\n",
      "97% below : 24.4\n",
      "98% below : 32.41599999999998\n",
      "99% below : 48.8\n"
     ]
    }
   ],
   "source": [
    "#calculate quantiles\n",
    "\n",
    "print(\"95% below\"+\" : \"+f'{df_new.Rainfall.quantile(0.95)}')\n",
    "print(\"97% below\"+\" : \"+f'{df_new.Rainfall.quantile(0.97)}')\n",
    "print(\"98% below\"+\" : \"+f'{df_new.Rainfall.quantile(0.98)}')\n",
    "print(\"99% below\"+\" : \"+f'{df_new.Rainfall.quantile(0.99)}')"
   ]
  },
  {
   "cell_type": "markdown",
   "id": "1bbc4997",
   "metadata": {},
   "source": [
    "##### From above graphs and stats we can cosider above 16.8 values as outliers becaus it covers almost 95% values"
   ]
  },
  {
   "cell_type": "code",
   "execution_count": 685,
   "id": "f354a166",
   "metadata": {},
   "outputs": [
    {
     "name": "stdout",
     "output_type": "stream",
     "text": [
      "There are 644 outliers\n"
     ]
    }
   ],
   "source": [
    "# index number which has Rainfall value>48.8\n",
    "x=[i for i in df_new.index if df_new['Rainfall'][i]>16.8]\n",
    "print(\"There are \"+f'{len(x)}'+\" outliers\")"
   ]
  },
  {
   "cell_type": "code",
   "execution_count": 686,
   "id": "e5d485ce",
   "metadata": {},
   "outputs": [
    {
     "data": {
      "text/plain": [
       "(12353, 21)"
      ]
     },
     "execution_count": 686,
     "metadata": {},
     "output_type": "execute_result"
    }
   ],
   "source": [
    "# drop rows which has rainfall valu >48.8\n",
    "df_new.drop(x, axis=0, inplace=True)\n",
    "df_new.shape"
   ]
  },
  {
   "cell_type": "code",
   "execution_count": 687,
   "id": "6a5830fc",
   "metadata": {},
   "outputs": [
    {
     "data": {
      "text/plain": [
       "count    12353.000000\n",
       "mean         1.188132\n",
       "std          2.955640\n",
       "min          0.000000\n",
       "25%          0.000000\n",
       "50%          0.000000\n",
       "75%          0.400000\n",
       "max         16.800000\n",
       "Name: Rainfall, dtype: float64"
      ]
     },
     "execution_count": 687,
     "metadata": {},
     "output_type": "execute_result"
    }
   ],
   "source": [
    "df_new['Rainfall'].describe()"
   ]
  },
  {
   "cell_type": "markdown",
   "id": "5fa008d9",
   "metadata": {},
   "source": [
    "#### There are no null values soo no need to fill it."
   ]
  },
  {
   "cell_type": "code",
   "execution_count": null,
   "id": "64f3cad8",
   "metadata": {},
   "outputs": [],
   "source": []
  },
  {
   "cell_type": "code",
   "execution_count": 688,
   "id": "bb4c0e55",
   "metadata": {},
   "outputs": [
    {
     "data": {
      "text/plain": [
       "[<matplotlib.lines.Line2D at 0x27b7b8ef250>]"
      ]
     },
     "execution_count": 688,
     "metadata": {},
     "output_type": "execute_result"
    },
    {
     "data": {
      "image/png": "[encoded data removed]",
      "text/plain": [
       "<Figure size 432x288 with 1 Axes>"
      ]
     },
     "metadata": {
      "needs_background": "light"
     },
     "output_type": "display_data"
    }
   ],
   "source": [
    "plt.plot(df_new['Evaporation'])"
   ]
  },
  {
   "cell_type": "code",
   "execution_count": 689,
   "id": "b36e91a0",
   "metadata": {},
   "outputs": [
    {
     "data": {
      "text/plain": [
       "count    12314.000000\n",
       "mean         5.564877\n",
       "std          2.891947\n",
       "min          0.000000\n",
       "25%          3.400000\n",
       "50%          5.400000\n",
       "75%          7.400000\n",
       "max         44.000000\n",
       "Name: Evaporation, dtype: float64"
      ]
     },
     "execution_count": 689,
     "metadata": {},
     "output_type": "execute_result"
    }
   ],
   "source": [
    "# plt.boxplot(df['Evaporation'])\n",
    "df_new['Evaporation'].describe()"
   ]
  },
  {
   "cell_type": "code",
   "execution_count": 690,
   "id": "e91d4c83",
   "metadata": {},
   "outputs": [],
   "source": [
    "#apply mean imputation in 'RainTomorrow'\n",
    "df_new['Evaporation']=df_new['Evaporation'].fillna(df_new['Evaporation'].mean())"
   ]
  },
  {
   "cell_type": "code",
   "execution_count": 691,
   "id": "498513f1",
   "metadata": {},
   "outputs": [
    {
     "data": {
      "image/png": "[encoded data removed]",
      "text/plain": [
       "<Figure size 432x288 with 1 Axes>"
      ]
     },
     "metadata": {
      "needs_background": "light"
     },
     "output_type": "display_data"
    },
    {
     "name": "stdout",
     "output_type": "stream",
     "text": [
      "95% below : 8.4\n",
      "97% below : 11.0\n",
      "98% below : 12.6\n",
      "99% below : 14.6\n"
     ]
    }
   ],
   "source": [
    "plt.boxplot(df_new['Evaporation'])\n",
    "plt.show()\n",
    "print(\"95% below\"+\" : \"+f'{df_new.Rainfall.quantile(0.95)}')\n",
    "print(\"97% below\"+\" : \"+f'{df_new.Rainfall.quantile(0.97)}')\n",
    "print(\"98% below\"+\" : \"+f'{df_new.Rainfall.quantile(0.98)}')\n",
    "print(\"99% below\"+\" : \"+f'{df_new.Rainfall.quantile(0.99)}')"
   ]
  },
  {
   "cell_type": "markdown",
   "id": "3fbcef40",
   "metadata": {},
   "source": [
    "#### from chart and stats above 12.6 values considering as outliers "
   ]
  },
  {
   "cell_type": "code",
   "execution_count": 692,
   "id": "1713b8ee",
   "metadata": {},
   "outputs": [
    {
     "name": "stdout",
     "output_type": "stream",
     "text": [
      "There are 167 outliers\n"
     ]
    },
    {
     "data": {
      "text/plain": [
       "(12186, 21)"
      ]
     },
     "execution_count": 692,
     "metadata": {},
     "output_type": "execute_result"
    }
   ],
   "source": [
    "# remove above 12.6 values considering as outliers\n",
    "x=[i for i in df_new.index if df_new['Evaporation'][i]>12.6]\n",
    "print(\"There are \"+f'{len(x)}'+\" outliers\")\n",
    "df_new.drop(x, axis=0, inplace=True)\n",
    "df_new.shape"
   ]
  },
  {
   "cell_type": "code",
   "execution_count": 693,
   "id": "7ff6c300",
   "metadata": {},
   "outputs": [
    {
     "data": {
      "image/png": "[encoded data removed]",
      "text/plain": [
       "<Figure size 432x288 with 1 Axes>"
      ]
     },
     "metadata": {
      "needs_background": "light"
     },
     "output_type": "display_data"
    }
   ],
   "source": [
    "#after pre-processing\n",
    "plt.boxplot(df_new['Evaporation'])\n",
    "plt.show()"
   ]
  },
  {
   "cell_type": "code",
   "execution_count": null,
   "id": "24ce4a2c",
   "metadata": {},
   "outputs": [],
   "source": []
  },
  {
   "cell_type": "code",
   "execution_count": 694,
   "id": "8f322cc2",
   "metadata": {},
   "outputs": [
    {
     "data": {
      "text/plain": [
       "[<matplotlib.lines.Line2D at 0x27b04cc6160>]"
      ]
     },
     "execution_count": 694,
     "metadata": {},
     "output_type": "execute_result"
    },
    {
     "data": {
      "image/png": "[encoded data removed]",
      "text/plain": [
       "<Figure size 432x288 with 1 Axes>"
      ]
     },
     "metadata": {
      "needs_background": "light"
     },
     "output_type": "display_data"
    }
   ],
   "source": [
    "# same steps for Sunshine\n",
    "plt.plot(df_new['Sunshine'])"
   ]
  },
  {
   "cell_type": "code",
   "execution_count": 695,
   "id": "7154d693",
   "metadata": {},
   "outputs": [
    {
     "data": {
      "text/plain": [
       "count    12134.000000\n",
       "mean         6.640168\n",
       "std          6.039472\n",
       "min        -13.500000\n",
       "25%          4.500000\n",
       "50%          8.900000\n",
       "75%         10.800000\n",
       "max         13.900000\n",
       "Name: Sunshine, dtype: float64"
      ]
     },
     "execution_count": 695,
     "metadata": {},
     "output_type": "execute_result"
    }
   ],
   "source": [
    "df_new['Sunshine'].describe()"
   ]
  },
  {
   "cell_type": "markdown",
   "id": "d307c304",
   "metadata": {},
   "source": [
    "#### There are no outliers in Sunshine so directly apply imputation."
   ]
  },
  {
   "cell_type": "code",
   "execution_count": 696,
   "id": "fd4097bd",
   "metadata": {},
   "outputs": [],
   "source": [
    "#fill null values using median imputation\n",
    "df_new['Sunshine']=df_new['Sunshine'].fillna(df_new['Sunshine'].median())"
   ]
  },
  {
   "cell_type": "code",
   "execution_count": null,
   "id": "e8688f27",
   "metadata": {},
   "outputs": [],
   "source": []
  },
  {
   "cell_type": "code",
   "execution_count": 697,
   "id": "67fd92fb",
   "metadata": {},
   "outputs": [
    {
     "data": {
      "image/png": "[encoded data removed]",
      "text/plain": [
       "<Figure size 432x288 with 1 Axes>"
      ]
     },
     "metadata": {
      "needs_background": "light"
     },
     "output_type": "display_data"
    }
   ],
   "source": [
    "# for WindGustSpeed\n",
    "plt.plot(df_new['WindGustSpeed'])\n",
    "plt.show()"
   ]
  },
  {
   "cell_type": "code",
   "execution_count": 698,
   "id": "22367db0",
   "metadata": {},
   "outputs": [
    {
     "data": {
      "text/plain": [
       "count    12118.000000\n",
       "mean        36.130054\n",
       "std         12.214673\n",
       "min          9.000000\n",
       "25%         28.000000\n",
       "50%         35.000000\n",
       "75%         43.000000\n",
       "max        104.000000\n",
       "Name: WindGustSpeed, dtype: float64"
      ]
     },
     "execution_count": 698,
     "metadata": {},
     "output_type": "execute_result"
    }
   ],
   "source": [
    "df['WindGustSpeed'].describe()"
   ]
  },
  {
   "cell_type": "code",
   "execution_count": 699,
   "id": "174a7165",
   "metadata": {},
   "outputs": [
    {
     "name": "stdout",
     "output_type": "stream",
     "text": [
      "95% below : 59.0\n",
      "97% below : 65.0\n",
      "98% below : 70.0\n",
      "99% below : 76.0\n"
     ]
    }
   ],
   "source": [
    "#calculate quantiles\n",
    "\n",
    "print(\"95% below\"+\" : \"+f'{df_new.WindGustSpeed.quantile(0.95)}')\n",
    "print(\"97% below\"+\" : \"+f'{df_new.WindGustSpeed.quantile(0.97)}')\n",
    "print(\"98% below\"+\" : \"+f'{df_new.WindGustSpeed.quantile(0.98)}')\n",
    "print(\"99% below\"+\" : \"+f'{df_new.WindGustSpeed.quantile(0.99)}')"
   ]
  },
  {
   "cell_type": "code",
   "execution_count": 700,
   "id": "181b5355",
   "metadata": {},
   "outputs": [
    {
     "name": "stdout",
     "output_type": "stream",
     "text": [
      "There are 102 outliers\n"
     ]
    },
    {
     "data": {
      "text/plain": [
       "(12084, 21)"
      ]
     },
     "execution_count": 700,
     "metadata": {},
     "output_type": "execute_result"
    }
   ],
   "source": [
    "# index number which has WindGustSpeed value>76.0\n",
    "x=[i for i in df_new.index if df_new['WindGustSpeed'][i]>76.0]\n",
    "print(\"There are \"+f'{len(x)}'+\" outliers\")\n",
    "df_new.drop(x, axis=0, inplace=True)\n",
    "df_new.shape"
   ]
  },
  {
   "cell_type": "code",
   "execution_count": 701,
   "id": "b6d01b2a",
   "metadata": {},
   "outputs": [],
   "source": [
    "#fill null values using median imputation\n",
    "df_new['WindGustSpeed']=df_new['WindGustSpeed'].fillna(df_new['WindGustSpeed'].median())"
   ]
  },
  {
   "cell_type": "code",
   "execution_count": null,
   "id": "5d41af50",
   "metadata": {},
   "outputs": [],
   "source": []
  },
  {
   "cell_type": "code",
   "execution_count": 702,
   "id": "07d0a481",
   "metadata": {},
   "outputs": [
    {
     "data": {
      "image/png": "[encoded data removed]",
      "text/plain": [
       "<Figure size 432x288 with 1 Axes>"
      ]
     },
     "metadata": {
      "needs_background": "light"
     },
     "output_type": "display_data"
    }
   ],
   "source": [
    "# for WindSpeed9am\n",
    "plt.plot(df_new['WindSpeed9am'])\n",
    "plt.show()"
   ]
  },
  {
   "cell_type": "code",
   "execution_count": 703,
   "id": "e5935c8e",
   "metadata": {},
   "outputs": [
    {
     "data": {
      "text/plain": [
       "count    12080.000000\n",
       "mean        12.110927\n",
       "std          7.814130\n",
       "min          0.000000\n",
       "25%          7.000000\n",
       "50%         11.000000\n",
       "75%         15.000000\n",
       "max         56.000000\n",
       "Name: WindSpeed9am, dtype: float64"
      ]
     },
     "execution_count": 703,
     "metadata": {},
     "output_type": "execute_result"
    }
   ],
   "source": [
    "df['WindSpeed9am'].describe()"
   ]
  },
  {
   "cell_type": "code",
   "execution_count": 704,
   "id": "560bf316",
   "metadata": {},
   "outputs": [
    {
     "name": "stdout",
     "output_type": "stream",
     "text": [
      "95% below : 28.0\n",
      "97% below : 31.0\n",
      "98% below : 33.0\n",
      "99% below : 39.0\n"
     ]
    }
   ],
   "source": [
    "#calculate quantiles\n",
    "\n",
    "print(\"95% below\"+\" : \"+f'{df.WindSpeed9am.quantile(0.95)}')\n",
    "print(\"97% below\"+\" : \"+f'{df.WindSpeed9am.quantile(0.97)}')\n",
    "print(\"98% below\"+\" : \"+f'{df.WindSpeed9am.quantile(0.98)}')\n",
    "print(\"99% below\"+\" : \"+f'{df.WindSpeed9am.quantile(0.99)}')"
   ]
  },
  {
   "cell_type": "code",
   "execution_count": 705,
   "id": "43ea3a9c",
   "metadata": {},
   "outputs": [
    {
     "name": "stdout",
     "output_type": "stream",
     "text": [
      "There are 211 outliers\n"
     ]
    },
    {
     "data": {
      "text/plain": [
       "(11873, 21)"
      ]
     },
     "execution_count": 705,
     "metadata": {},
     "output_type": "execute_result"
    }
   ],
   "source": [
    "#below 33 covers 98% values so remove above 33 values\n",
    "x=[i for i in df_new.index if df_new['WindSpeed9am'][i]>33.0]\n",
    "print(\"There are \"+f'{len(x)}'+\" outliers\")\n",
    "df_new.drop(x, axis=0, inplace=True)\n",
    "df_new.shape"
   ]
  },
  {
   "cell_type": "code",
   "execution_count": 706,
   "id": "8b9423ac",
   "metadata": {},
   "outputs": [
    {
     "data": {
      "text/plain": [
       "count    11869.000000\n",
       "mean        11.586233\n",
       "std          6.772091\n",
       "min          0.000000\n",
       "25%          7.000000\n",
       "50%         11.000000\n",
       "75%         15.000000\n",
       "max         33.000000\n",
       "Name: WindSpeed9am, dtype: float64"
      ]
     },
     "execution_count": 706,
     "metadata": {},
     "output_type": "execute_result"
    }
   ],
   "source": [
    "df['WindSpeed9am'].describe()"
   ]
  },
  {
   "cell_type": "code",
   "execution_count": 707,
   "id": "0679021d",
   "metadata": {},
   "outputs": [],
   "source": [
    "#fill null values using median imputation\n",
    "df_new['WindSpeed9am']=df_new['WindSpeed9am'].fillna(df_new['WindSpeed9am'].median())"
   ]
  },
  {
   "cell_type": "code",
   "execution_count": null,
   "id": "bf135988",
   "metadata": {},
   "outputs": [],
   "source": []
  },
  {
   "cell_type": "code",
   "execution_count": 708,
   "id": "cfd7ce64",
   "metadata": {},
   "outputs": [
    {
     "data": {
      "image/png": "[encoded data removed]",
      "text/plain": [
       "<Figure size 432x288 with 1 Axes>"
      ]
     },
     "metadata": {
      "needs_background": "light"
     },
     "output_type": "display_data"
    }
   ],
   "source": [
    "# for WindSpeed3pm\n",
    "plt.plot(df_new['WindSpeed3pm'])\n",
    "plt.show()"
   ]
  },
  {
   "cell_type": "code",
   "execution_count": 709,
   "id": "e3c2c59e",
   "metadata": {},
   "outputs": [
    {
     "data": {
      "text/plain": [
       "count    11867.000000\n",
       "mean        16.155473\n",
       "std          7.198717\n",
       "min          0.000000\n",
       "25%         11.000000\n",
       "50%         15.000000\n",
       "75%         20.000000\n",
       "max         52.000000\n",
       "Name: WindSpeed3pm, dtype: float64"
      ]
     },
     "execution_count": 709,
     "metadata": {},
     "output_type": "execute_result"
    }
   ],
   "source": [
    "df['WindSpeed3pm'].describe()"
   ]
  },
  {
   "cell_type": "code",
   "execution_count": 710,
   "id": "553a8189",
   "metadata": {},
   "outputs": [
    {
     "name": "stdout",
     "output_type": "stream",
     "text": [
      "95% below : 30.0\n",
      "97% below : 31.0\n",
      "98% below : 33.0\n",
      "99% below : 35.0\n"
     ]
    }
   ],
   "source": [
    "#calculate quantiles\n",
    "print(\"95% below\"+\" : \"+f'{df.WindSpeed3pm.quantile(0.95)}')\n",
    "print(\"97% below\"+\" : \"+f'{df.WindSpeed3pm.quantile(0.97)}')\n",
    "print(\"98% below\"+\" : \"+f'{df.WindSpeed3pm.quantile(0.98)}')\n",
    "print(\"99% below\"+\" : \"+f'{df.WindSpeed3pm.quantile(0.99)}')"
   ]
  },
  {
   "cell_type": "code",
   "execution_count": 711,
   "id": "f2b89cfa",
   "metadata": {},
   "outputs": [
    {
     "name": "stdout",
     "output_type": "stream",
     "text": [
      "There are 155 outliers\n"
     ]
    },
    {
     "data": {
      "text/plain": [
       "(11718, 21)"
      ]
     },
     "execution_count": 711,
     "metadata": {},
     "output_type": "execute_result"
    }
   ],
   "source": [
    "#below 33 covers 98% values so remove above 33 values\n",
    "x=[i for i in df_new.index if df_new['WindSpeed3pm'][i]>33.0]\n",
    "print(\"There are \"+f'{len(x)}'+\" outliers\")\n",
    "df_new.drop(x, axis=0, inplace=True)\n",
    "df_new.shape"
   ]
  },
  {
   "cell_type": "code",
   "execution_count": 712,
   "id": "f2eb2948",
   "metadata": {},
   "outputs": [
    {
     "data": {
      "text/plain": [
       "count    11712.000000\n",
       "mean        15.866718\n",
       "std          6.779540\n",
       "min          0.000000\n",
       "25%         11.000000\n",
       "50%         15.000000\n",
       "75%         20.000000\n",
       "max         33.000000\n",
       "Name: WindSpeed3pm, dtype: float64"
      ]
     },
     "execution_count": 712,
     "metadata": {},
     "output_type": "execute_result"
    }
   ],
   "source": [
    "df['WindSpeed3pm'].describe()"
   ]
  },
  {
   "cell_type": "code",
   "execution_count": 713,
   "id": "ccc3d6eb",
   "metadata": {},
   "outputs": [],
   "source": [
    "#fill null values using median imputation\n",
    "df_new['WindSpeed3pm']=df_new['WindSpeed3pm'].fillna(df_new['WindSpeed3pm'].median())"
   ]
  },
  {
   "cell_type": "code",
   "execution_count": null,
   "id": "2c75ab1a",
   "metadata": {},
   "outputs": [],
   "source": []
  },
  {
   "cell_type": "code",
   "execution_count": 714,
   "id": "4b3ccedd",
   "metadata": {},
   "outputs": [
    {
     "data": {
      "image/png": "[encoded data removed]",
      "text/plain": [
       "<Figure size 432x288 with 1 Axes>"
      ]
     },
     "metadata": {
      "needs_background": "light"
     },
     "output_type": "display_data"
    }
   ],
   "source": [
    "# For Humidity9am\n",
    "plt.plot(df_new['Humidity9am'])\n",
    "plt.show()"
   ]
  },
  {
   "cell_type": "code",
   "execution_count": 715,
   "id": "34a4ab84",
   "metadata": {},
   "outputs": [
    {
     "data": {
      "text/plain": [
       "count    11707.000000\n",
       "mean        65.127360\n",
       "std         14.784387\n",
       "min         11.000000\n",
       "25%         56.000000\n",
       "50%         66.000000\n",
       "75%         75.000000\n",
       "max        100.000000\n",
       "Name: Humidity9am, dtype: float64"
      ]
     },
     "execution_count": 715,
     "metadata": {},
     "output_type": "execute_result"
    }
   ],
   "source": [
    "df['Humidity9am'].describe()"
   ]
  },
  {
   "cell_type": "markdown",
   "id": "d5b8fc6c",
   "metadata": {},
   "source": [
    "#### From chart and stats there are no outliers in Humidity9am"
   ]
  },
  {
   "cell_type": "code",
   "execution_count": 716,
   "id": "2b03bef4",
   "metadata": {},
   "outputs": [],
   "source": [
    "#fill null values using median imputation\n",
    "df_new['Humidity9am']=df_new['Humidity9am'].fillna(df_new['Humidity9am'].median())"
   ]
  },
  {
   "cell_type": "code",
   "execution_count": null,
   "id": "f6e35ba2",
   "metadata": {},
   "outputs": [],
   "source": []
  },
  {
   "cell_type": "code",
   "execution_count": 717,
   "id": "d4cbf2d3",
   "metadata": {},
   "outputs": [
    {
     "data": {
      "image/png": "[encoded data removed]",
      "text/plain": [
       "<Figure size 432x288 with 1 Axes>"
      ]
     },
     "metadata": {
      "needs_background": "light"
     },
     "output_type": "display_data"
    }
   ],
   "source": [
    "# For Humidity3pm\n",
    "plt.plot(df_new['Humidity3pm'])\n",
    "plt.show()"
   ]
  },
  {
   "cell_type": "code",
   "execution_count": 718,
   "id": "59977f80",
   "metadata": {},
   "outputs": [
    {
     "data": {
      "text/plain": [
       "count    11695.000000\n",
       "mean        50.151689\n",
       "std         16.147327\n",
       "min          5.000000\n",
       "25%         40.000000\n",
       "50%         51.000000\n",
       "75%         60.000000\n",
       "max        100.000000\n",
       "Name: Humidity3pm, dtype: float64"
      ]
     },
     "execution_count": 718,
     "metadata": {},
     "output_type": "execute_result"
    }
   ],
   "source": [
    "df['Humidity3pm'].describe()"
   ]
  },
  {
   "cell_type": "markdown",
   "id": "03b1235d",
   "metadata": {},
   "source": [
    "#### From chart and stats there are no outliers in Humidity3pm"
   ]
  },
  {
   "cell_type": "code",
   "execution_count": 719,
   "id": "e43d4e54",
   "metadata": {},
   "outputs": [],
   "source": [
    "#fill null values using median imputation\n",
    "df_new['Humidity3pm']=df_new['Humidity3pm'].fillna(df_new['Humidity3pm'].median())"
   ]
  },
  {
   "cell_type": "code",
   "execution_count": null,
   "id": "a4948559",
   "metadata": {},
   "outputs": [],
   "source": []
  },
  {
   "cell_type": "code",
   "execution_count": 720,
   "id": "55f9d2dc",
   "metadata": {},
   "outputs": [
    {
     "data": {
      "image/png": "[encoded data removed]",
      "text/plain": [
       "<Figure size 432x288 with 1 Axes>"
      ]
     },
     "metadata": {
      "needs_background": "light"
     },
     "output_type": "display_data"
    }
   ],
   "source": [
    "# for Cloud9am\n",
    "plt.plot(df_new['Cloud9am'])\n",
    "plt.show()"
   ]
  },
  {
   "cell_type": "code",
   "execution_count": 721,
   "id": "445f37a1",
   "metadata": {},
   "outputs": [
    {
     "data": {
      "text/plain": [
       "count    11490.000000\n",
       "mean         3.943168\n",
       "std          2.704044\n",
       "min          0.000000\n",
       "25%          1.000000\n",
       "50%          4.000000\n",
       "75%          7.000000\n",
       "max          8.000000\n",
       "Name: Cloud9am, dtype: float64"
      ]
     },
     "execution_count": 721,
     "metadata": {},
     "output_type": "execute_result"
    }
   ],
   "source": [
    "df['Cloud9am'].describe()"
   ]
  },
  {
   "cell_type": "markdown",
   "id": "f70086d2",
   "metadata": {},
   "source": [
    "#### From chart and stats there are no outliers in Cloud9am"
   ]
  },
  {
   "cell_type": "code",
   "execution_count": 722,
   "id": "524987f5",
   "metadata": {},
   "outputs": [],
   "source": [
    "#fill null values using median imputation\n",
    "df_new['Cloud9am']=df_new['Cloud9am'].fillna(df_new['Cloud9am'].median())"
   ]
  },
  {
   "cell_type": "code",
   "execution_count": null,
   "id": "c572d1d6",
   "metadata": {},
   "outputs": [],
   "source": []
  },
  {
   "cell_type": "code",
   "execution_count": 723,
   "id": "3c6506f3",
   "metadata": {},
   "outputs": [
    {
     "data": {
      "image/png": "[encoded data removed]",
      "text/plain": [
       "<Figure size 432x288 with 1 Axes>"
      ]
     },
     "metadata": {
      "needs_background": "light"
     },
     "output_type": "display_data"
    }
   ],
   "source": [
    "# for Cloud3pm\n",
    "plt.plot(df_new['Cloud3pm'])\n",
    "plt.show()"
   ]
  },
  {
   "cell_type": "code",
   "execution_count": 724,
   "id": "8b37f9ef",
   "metadata": {},
   "outputs": [
    {
     "data": {
      "text/plain": [
       "count    11432.000000\n",
       "mean         3.955301\n",
       "std          2.627655\n",
       "min          0.000000\n",
       "25%          1.000000\n",
       "50%          4.000000\n",
       "75%          7.000000\n",
       "max          8.000000\n",
       "Name: Cloud3pm, dtype: float64"
      ]
     },
     "execution_count": 724,
     "metadata": {},
     "output_type": "execute_result"
    }
   ],
   "source": [
    "df['Cloud3pm'].describe()"
   ]
  },
  {
   "cell_type": "markdown",
   "id": "fe5c8b3a",
   "metadata": {},
   "source": [
    "#### From chart and stats there are no outliers in Cloud3pm"
   ]
  },
  {
   "cell_type": "code",
   "execution_count": 725,
   "id": "f9fc1d1f",
   "metadata": {},
   "outputs": [],
   "source": [
    "#fill null values using median imputation\n",
    "df_new['Cloud3pm']=df_new['Cloud3pm'].fillna(df_new['Cloud3pm'].median())"
   ]
  },
  {
   "cell_type": "code",
   "execution_count": null,
   "id": "55982028",
   "metadata": {},
   "outputs": [],
   "source": []
  },
  {
   "cell_type": "code",
   "execution_count": 726,
   "id": "d1010536",
   "metadata": {},
   "outputs": [
    {
     "data": {
      "image/png": "[encoded data removed]",
      "text/plain": [
       "<Figure size 432x288 with 1 Axes>"
      ]
     },
     "metadata": {
      "needs_background": "light"
     },
     "output_type": "display_data"
    }
   ],
   "source": [
    "#Now for AverageTemp\n",
    "plt.plot(df_new['AverageTemp'])\n",
    "plt.show()"
   ]
  },
  {
   "cell_type": "code",
   "execution_count": 727,
   "id": "a641e101",
   "metadata": {},
   "outputs": [
    {
     "data": {
      "text/plain": [
       "count    11710.000000\n",
       "mean        31.499650\n",
       "std          2.943354\n",
       "min         24.300000\n",
       "25%         29.100000\n",
       "50%         31.700000\n",
       "75%         34.100000\n",
       "max         38.000000\n",
       "Name: AverageTemp, dtype: float64"
      ]
     },
     "execution_count": 727,
     "metadata": {},
     "output_type": "execute_result"
    }
   ],
   "source": [
    "df['AverageTemp'].describe()"
   ]
  },
  {
   "cell_type": "markdown",
   "id": "dc0efe5d",
   "metadata": {},
   "source": [
    "#### From chart and stats there are no outliers in AverageTemp"
   ]
  },
  {
   "cell_type": "code",
   "execution_count": 729,
   "id": "d7b69962",
   "metadata": {},
   "outputs": [],
   "source": [
    "df_final=df_new"
   ]
  },
  {
   "cell_type": "markdown",
   "id": "0f205257",
   "metadata": {},
   "source": [
    "## Analysis of categorical features"
   ]
  },
  {
   "cell_type": "code",
   "execution_count": 669,
   "id": "687809ab",
   "metadata": {},
   "outputs": [],
   "source": [
    "#for Date\n",
    "#convert it into 3 columns called date month and year\n",
    "df_final[[\"Year\", \"Month\", \"Day\"]] = df_final[\"Date\"].str.split(\"-\", expand = True)"
   ]
  },
  {
   "cell_type": "code",
   "execution_count": 733,
   "id": "3b86308a",
   "metadata": {},
   "outputs": [
    {
     "data": {
      "text/html": [
       "<div>\n",
       "<style scoped>\n",
       "    .dataframe tbody tr th:only-of-type {\n",
       "        vertical-align: middle;\n",
       "    }\n",
       "\n",
       "    .dataframe tbody tr th {\n",
       "        vertical-align: top;\n",
       "    }\n",
       "\n",
       "    .dataframe thead th {\n",
       "        text-align: right;\n",
       "    }\n",
       "</style>\n",
       "<table border=\"1\" class=\"dataframe\">\n",
       "  <thead>\n",
       "    <tr style=\"text-align: right;\">\n",
       "      <th></th>\n",
       "      <th>Date</th>\n",
       "      <th>Location</th>\n",
       "      <th>Rainfall</th>\n",
       "      <th>Evaporation</th>\n",
       "      <th>Sunshine</th>\n",
       "      <th>WindGustDir</th>\n",
       "      <th>WindGustSpeed</th>\n",
       "      <th>WindDir9am</th>\n",
       "      <th>WindDir3pm</th>\n",
       "      <th>WindSpeed9am</th>\n",
       "      <th>...</th>\n",
       "      <th>Pressure3pm</th>\n",
       "      <th>Cloud9am</th>\n",
       "      <th>Cloud3pm</th>\n",
       "      <th>RainToday</th>\n",
       "      <th>RainTomorrow</th>\n",
       "      <th>ColourOfBoats</th>\n",
       "      <th>AverageTemp</th>\n",
       "      <th>Year</th>\n",
       "      <th>Month</th>\n",
       "      <th>Day</th>\n",
       "    </tr>\n",
       "  </thead>\n",
       "  <tbody>\n",
       "    <tr>\n",
       "      <th>0</th>\n",
       "      <td>2009-03-08</td>\n",
       "      <td>Changi</td>\n",
       "      <td>0.0</td>\n",
       "      <td>7.0</td>\n",
       "      <td>11.2</td>\n",
       "      <td>E</td>\n",
       "      <td>35.0</td>\n",
       "      <td>E</td>\n",
       "      <td>ESE</td>\n",
       "      <td>15.0</td>\n",
       "      <td>...</td>\n",
       "      <td>Med</td>\n",
       "      <td>4.0</td>\n",
       "      <td>5.0</td>\n",
       "      <td>No</td>\n",
       "      <td>No</td>\n",
       "      <td>blue</td>\n",
       "      <td>33.4</td>\n",
       "      <td>2009</td>\n",
       "      <td>03</td>\n",
       "      <td>08</td>\n",
       "    </tr>\n",
       "    <tr>\n",
       "      <th>1</th>\n",
       "      <td>2014-11-12</td>\n",
       "      <td>Woodlands</td>\n",
       "      <td>0.0</td>\n",
       "      <td>8.4</td>\n",
       "      <td>9.6</td>\n",
       "      <td>WNW</td>\n",
       "      <td>37.0</td>\n",
       "      <td>NNE</td>\n",
       "      <td>NW</td>\n",
       "      <td>13.0</td>\n",
       "      <td>...</td>\n",
       "      <td>LOw</td>\n",
       "      <td>1.0</td>\n",
       "      <td>2.0</td>\n",
       "      <td>None</td>\n",
       "      <td>Yes</td>\n",
       "      <td>blue</td>\n",
       "      <td>35.4</td>\n",
       "      <td>2014</td>\n",
       "      <td>11</td>\n",
       "      <td>12</td>\n",
       "    </tr>\n",
       "    <tr>\n",
       "      <th>2</th>\n",
       "      <td>2008-08-08</td>\n",
       "      <td>Woodlands</td>\n",
       "      <td>0.0</td>\n",
       "      <td>7.6</td>\n",
       "      <td>11.1</td>\n",
       "      <td>ESE</td>\n",
       "      <td>52.0</td>\n",
       "      <td>SE</td>\n",
       "      <td>E</td>\n",
       "      <td>19.0</td>\n",
       "      <td>...</td>\n",
       "      <td>MEd</td>\n",
       "      <td>0.0</td>\n",
       "      <td>0.0</td>\n",
       "      <td>None</td>\n",
       "      <td>No</td>\n",
       "      <td>blue</td>\n",
       "      <td>32.8</td>\n",
       "      <td>2008</td>\n",
       "      <td>08</td>\n",
       "      <td>08</td>\n",
       "    </tr>\n",
       "    <tr>\n",
       "      <th>3</th>\n",
       "      <td>2015-10-12</td>\n",
       "      <td>Changi</td>\n",
       "      <td>0.0</td>\n",
       "      <td>7.2</td>\n",
       "      <td>11.4</td>\n",
       "      <td>NE</td>\n",
       "      <td>31.0</td>\n",
       "      <td>NNW</td>\n",
       "      <td>NE</td>\n",
       "      <td>9.0</td>\n",
       "      <td>...</td>\n",
       "      <td>med</td>\n",
       "      <td>1.0</td>\n",
       "      <td>1.0</td>\n",
       "      <td>No</td>\n",
       "      <td>No</td>\n",
       "      <td>red</td>\n",
       "      <td>31.4</td>\n",
       "      <td>2015</td>\n",
       "      <td>10</td>\n",
       "      <td>12</td>\n",
       "    </tr>\n",
       "    <tr>\n",
       "      <th>4</th>\n",
       "      <td>2013-10-27</td>\n",
       "      <td>Woodlands</td>\n",
       "      <td>5.6</td>\n",
       "      <td>7.0</td>\n",
       "      <td>8.5</td>\n",
       "      <td>NNW</td>\n",
       "      <td>33.0</td>\n",
       "      <td>N</td>\n",
       "      <td>N</td>\n",
       "      <td>13.0</td>\n",
       "      <td>...</td>\n",
       "      <td>MeD</td>\n",
       "      <td>6.0</td>\n",
       "      <td>5.0</td>\n",
       "      <td>None</td>\n",
       "      <td>No</td>\n",
       "      <td>grey</td>\n",
       "      <td>35.4</td>\n",
       "      <td>2013</td>\n",
       "      <td>10</td>\n",
       "      <td>27</td>\n",
       "    </tr>\n",
       "    <tr>\n",
       "      <th>...</th>\n",
       "      <td>...</td>\n",
       "      <td>...</td>\n",
       "      <td>...</td>\n",
       "      <td>...</td>\n",
       "      <td>...</td>\n",
       "      <td>...</td>\n",
       "      <td>...</td>\n",
       "      <td>...</td>\n",
       "      <td>...</td>\n",
       "      <td>...</td>\n",
       "      <td>...</td>\n",
       "      <td>...</td>\n",
       "      <td>...</td>\n",
       "      <td>...</td>\n",
       "      <td>...</td>\n",
       "      <td>...</td>\n",
       "      <td>...</td>\n",
       "      <td>...</td>\n",
       "      <td>...</td>\n",
       "      <td>...</td>\n",
       "      <td>...</td>\n",
       "    </tr>\n",
       "    <tr>\n",
       "      <th>12992</th>\n",
       "      <td>2015-06-12</td>\n",
       "      <td>Tuas</td>\n",
       "      <td>0.4</td>\n",
       "      <td>1.6</td>\n",
       "      <td>5.6</td>\n",
       "      <td>SW</td>\n",
       "      <td>28.0</td>\n",
       "      <td>None</td>\n",
       "      <td>SW</td>\n",
       "      <td>0.0</td>\n",
       "      <td>...</td>\n",
       "      <td>mED</td>\n",
       "      <td>4.0</td>\n",
       "      <td>3.0</td>\n",
       "      <td>No</td>\n",
       "      <td>No</td>\n",
       "      <td>red</td>\n",
       "      <td>29.3</td>\n",
       "      <td>2015</td>\n",
       "      <td>06</td>\n",
       "      <td>12</td>\n",
       "    </tr>\n",
       "    <tr>\n",
       "      <th>12993</th>\n",
       "      <td>2016-09-29</td>\n",
       "      <td>Changi</td>\n",
       "      <td>0.0</td>\n",
       "      <td>7.4</td>\n",
       "      <td>0.6</td>\n",
       "      <td>NNW</td>\n",
       "      <td>35.0</td>\n",
       "      <td>N</td>\n",
       "      <td>NNW</td>\n",
       "      <td>4.0</td>\n",
       "      <td>...</td>\n",
       "      <td>LoW</td>\n",
       "      <td>7.0</td>\n",
       "      <td>8.0</td>\n",
       "      <td>No</td>\n",
       "      <td>Yes</td>\n",
       "      <td>white</td>\n",
       "      <td>31.3</td>\n",
       "      <td>2016</td>\n",
       "      <td>09</td>\n",
       "      <td>29</td>\n",
       "    </tr>\n",
       "    <tr>\n",
       "      <th>12994</th>\n",
       "      <td>2011-05-14</td>\n",
       "      <td>Sentosa</td>\n",
       "      <td>8.0</td>\n",
       "      <td>0.8</td>\n",
       "      <td>5.4</td>\n",
       "      <td>S</td>\n",
       "      <td>52.0</td>\n",
       "      <td>WSW</td>\n",
       "      <td>S</td>\n",
       "      <td>24.0</td>\n",
       "      <td>...</td>\n",
       "      <td>HIgH</td>\n",
       "      <td>4.0</td>\n",
       "      <td>4.0</td>\n",
       "      <td>Yes</td>\n",
       "      <td>Yes</td>\n",
       "      <td>grey</td>\n",
       "      <td>26.4</td>\n",
       "      <td>2011</td>\n",
       "      <td>05</td>\n",
       "      <td>14</td>\n",
       "    </tr>\n",
       "    <tr>\n",
       "      <th>12995</th>\n",
       "      <td>2011-02-14</td>\n",
       "      <td>Sentosa</td>\n",
       "      <td>4.4</td>\n",
       "      <td>4.4</td>\n",
       "      <td>12.0</td>\n",
       "      <td>S</td>\n",
       "      <td>31.0</td>\n",
       "      <td>SSE</td>\n",
       "      <td>SSE</td>\n",
       "      <td>13.0</td>\n",
       "      <td>...</td>\n",
       "      <td>hIgh</td>\n",
       "      <td>5.0</td>\n",
       "      <td>1.0</td>\n",
       "      <td>Yes</td>\n",
       "      <td>No</td>\n",
       "      <td>blue</td>\n",
       "      <td>30.5</td>\n",
       "      <td>2011</td>\n",
       "      <td>02</td>\n",
       "      <td>14</td>\n",
       "    </tr>\n",
       "    <tr>\n",
       "      <th>12996</th>\n",
       "      <td>2016-03-04</td>\n",
       "      <td>Changi</td>\n",
       "      <td>0.4</td>\n",
       "      <td>8.4</td>\n",
       "      <td>11.1</td>\n",
       "      <td>E</td>\n",
       "      <td>33.0</td>\n",
       "      <td>ESE</td>\n",
       "      <td>E</td>\n",
       "      <td>4.0</td>\n",
       "      <td>...</td>\n",
       "      <td>MeD</td>\n",
       "      <td>4.0</td>\n",
       "      <td>2.0</td>\n",
       "      <td>No</td>\n",
       "      <td>No</td>\n",
       "      <td>blue</td>\n",
       "      <td>33.4</td>\n",
       "      <td>2016</td>\n",
       "      <td>03</td>\n",
       "      <td>04</td>\n",
       "    </tr>\n",
       "  </tbody>\n",
       "</table>\n",
       "<p>11718 rows × 24 columns</p>\n",
       "</div>"
      ],
      "text/plain": [
       "             Date   Location  Rainfall  Evaporation  Sunshine WindGustDir  \\\n",
       "0      2009-03-08     Changi       0.0          7.0      11.2           E   \n",
       "1      2014-11-12  Woodlands       0.0          8.4       9.6         WNW   \n",
       "2      2008-08-08  Woodlands       0.0          7.6      11.1         ESE   \n",
       "3      2015-10-12     Changi       0.0          7.2      11.4          NE   \n",
       "4      2013-10-27  Woodlands       5.6          7.0       8.5         NNW   \n",
       "...           ...        ...       ...          ...       ...         ...   \n",
       "12992  2015-06-12       Tuas       0.4          1.6       5.6          SW   \n",
       "12993  2016-09-29     Changi       0.0          7.4       0.6         NNW   \n",
       "12994  2011-05-14    Sentosa       8.0          0.8       5.4           S   \n",
       "12995  2011-02-14    Sentosa       4.4          4.4      12.0           S   \n",
       "12996  2016-03-04     Changi       0.4          8.4      11.1           E   \n",
       "\n",
       "       WindGustSpeed WindDir9am WindDir3pm  WindSpeed9am  ...  Pressure3pm  \\\n",
       "0               35.0          E        ESE          15.0  ...          Med   \n",
       "1               37.0        NNE         NW          13.0  ...          LOw   \n",
       "2               52.0         SE          E          19.0  ...          MEd   \n",
       "3               31.0        NNW         NE           9.0  ...          med   \n",
       "4               33.0          N          N          13.0  ...          MeD   \n",
       "...              ...        ...        ...           ...  ...          ...   \n",
       "12992           28.0       None         SW           0.0  ...          mED   \n",
       "12993           35.0          N        NNW           4.0  ...          LoW   \n",
       "12994           52.0        WSW          S          24.0  ...         HIgH   \n",
       "12995           31.0        SSE        SSE          13.0  ...         hIgh   \n",
       "12996           33.0        ESE          E           4.0  ...          MeD   \n",
       "\n",
       "       Cloud9am  Cloud3pm RainToday RainTomorrow  ColourOfBoats  AverageTemp  \\\n",
       "0           4.0       5.0        No           No           blue         33.4   \n",
       "1           1.0       2.0      None          Yes           blue         35.4   \n",
       "2           0.0       0.0      None           No           blue         32.8   \n",
       "3           1.0       1.0        No           No            red         31.4   \n",
       "4           6.0       5.0      None           No           grey         35.4   \n",
       "...         ...       ...       ...          ...            ...          ...   \n",
       "12992       4.0       3.0        No           No            red         29.3   \n",
       "12993       7.0       8.0        No          Yes          white         31.3   \n",
       "12994       4.0       4.0       Yes          Yes           grey         26.4   \n",
       "12995       5.0       1.0       Yes           No           blue         30.5   \n",
       "12996       4.0       2.0        No           No           blue         33.4   \n",
       "\n",
       "       Year Month Day  \n",
       "0      2009    03  08  \n",
       "1      2014    11  12  \n",
       "2      2008    08  08  \n",
       "3      2015    10  12  \n",
       "4      2013    10  27  \n",
       "...     ...   ...  ..  \n",
       "12992  2015    06  12  \n",
       "12993  2016    09  29  \n",
       "12994  2011    05  14  \n",
       "12995  2011    02  14  \n",
       "12996  2016    03  04  \n",
       "\n",
       "[11718 rows x 24 columns]"
      ]
     },
     "execution_count": 733,
     "metadata": {},
     "output_type": "execute_result"
    }
   ],
   "source": [
    "df_final"
   ]
  },
  {
   "cell_type": "code",
   "execution_count": null,
   "id": "01efebf4",
   "metadata": {},
   "outputs": [],
   "source": []
  },
  {
   "cell_type": "code",
   "execution_count": 736,
   "id": "441fb592",
   "metadata": {},
   "outputs": [
    {
     "data": {
      "text/plain": [
       "Tuas         3321\n",
       "Changi       3278\n",
       "Woodlands    3149\n",
       "Sentosa      1970\n",
       "Name: Location, dtype: int64"
      ]
     },
     "execution_count": 736,
     "metadata": {},
     "output_type": "execute_result"
    }
   ],
   "source": [
    "#for location\n",
    "df_final['Location'].value_counts()"
   ]
  },
  {
   "cell_type": "code",
   "execution_count": 737,
   "id": "32cbf0a2",
   "metadata": {},
   "outputs": [],
   "source": [
    "temp_dict={'Tuas':1, 'Changi':2, 'Woodlands':3, 'Sentosa':4}\n",
    "df_final[\"Location\"] = df_final.Location.map(temp_dict)"
   ]
  },
  {
   "cell_type": "code",
   "execution_count": null,
   "id": "07c02c73",
   "metadata": {},
   "outputs": [],
   "source": []
  },
  {
   "cell_type": "code",
   "execution_count": 734,
   "id": "7865f9c0",
   "metadata": {},
   "outputs": [
    {
     "data": {
      "text/plain": [
       "E      1259\n",
       "SW     1012\n",
       "N       901\n",
       "ENE     865\n",
       "ESE     836\n",
       "NE      794\n",
       "SSW     779\n",
       "W       686\n",
       "SE      656\n",
       "WNW     653\n",
       "SSE     614\n",
       "WSW     607\n",
       "NW      504\n",
       "NNE     474\n",
       "S       469\n",
       "NNW     436\n",
       "NS       61\n",
       "EW       49\n",
       "Name: WindGustDir, dtype: int64"
      ]
     },
     "execution_count": 734,
     "metadata": {},
     "output_type": "execute_result"
    }
   ],
   "source": [
    "# WindGustDir\n",
    "df_final['WindGustDir'].value_counts()\n"
   ]
  },
  {
   "cell_type": "code",
   "execution_count": 735,
   "id": "9e314d1e",
   "metadata": {},
   "outputs": [],
   "source": [
    "#Apply ordinal encoding for convert categorical to numerical\n",
    "temp_dict={'E': 1,'SW': 2,'N': 3,'ENE': 4,'ESE': 5,'NE': 6,'SSW': 7,'W': 8,'SE': 9,'WNW': 10,'SSE': 11,'WSW': 12,'NW': 13,'NNE': 14,'S': 15,'NNW': 16,'NS': 17,'EW': 18,}\n",
    "df_final[\"WindGustDir\"] = df_final.WindGustDir.map(temp_dict)"
   ]
  },
  {
   "cell_type": "code",
   "execution_count": 738,
   "id": "d7d8a3ae",
   "metadata": {},
   "outputs": [
    {
     "data": {
      "text/html": [
       "<div>\n",
       "<style scoped>\n",
       "    .dataframe tbody tr th:only-of-type {\n",
       "        vertical-align: middle;\n",
       "    }\n",
       "\n",
       "    .dataframe tbody tr th {\n",
       "        vertical-align: top;\n",
       "    }\n",
       "\n",
       "    .dataframe thead th {\n",
       "        text-align: right;\n",
       "    }\n",
       "</style>\n",
       "<table border=\"1\" class=\"dataframe\">\n",
       "  <thead>\n",
       "    <tr style=\"text-align: right;\">\n",
       "      <th></th>\n",
       "      <th>Date</th>\n",
       "      <th>Location</th>\n",
       "      <th>Rainfall</th>\n",
       "      <th>Evaporation</th>\n",
       "      <th>Sunshine</th>\n",
       "      <th>WindGustDir</th>\n",
       "      <th>WindGustSpeed</th>\n",
       "      <th>WindDir9am</th>\n",
       "      <th>WindDir3pm</th>\n",
       "      <th>WindSpeed9am</th>\n",
       "      <th>...</th>\n",
       "      <th>Pressure3pm</th>\n",
       "      <th>Cloud9am</th>\n",
       "      <th>Cloud3pm</th>\n",
       "      <th>RainToday</th>\n",
       "      <th>RainTomorrow</th>\n",
       "      <th>ColourOfBoats</th>\n",
       "      <th>AverageTemp</th>\n",
       "      <th>Year</th>\n",
       "      <th>Month</th>\n",
       "      <th>Day</th>\n",
       "    </tr>\n",
       "  </thead>\n",
       "  <tbody>\n",
       "    <tr>\n",
       "      <th>0</th>\n",
       "      <td>2009-03-08</td>\n",
       "      <td>2</td>\n",
       "      <td>0.0</td>\n",
       "      <td>7.0</td>\n",
       "      <td>11.2</td>\n",
       "      <td>1.0</td>\n",
       "      <td>35.0</td>\n",
       "      <td>E</td>\n",
       "      <td>ESE</td>\n",
       "      <td>15.0</td>\n",
       "      <td>...</td>\n",
       "      <td>Med</td>\n",
       "      <td>4.0</td>\n",
       "      <td>5.0</td>\n",
       "      <td>No</td>\n",
       "      <td>No</td>\n",
       "      <td>blue</td>\n",
       "      <td>33.4</td>\n",
       "      <td>2009</td>\n",
       "      <td>03</td>\n",
       "      <td>08</td>\n",
       "    </tr>\n",
       "    <tr>\n",
       "      <th>1</th>\n",
       "      <td>2014-11-12</td>\n",
       "      <td>3</td>\n",
       "      <td>0.0</td>\n",
       "      <td>8.4</td>\n",
       "      <td>9.6</td>\n",
       "      <td>10.0</td>\n",
       "      <td>37.0</td>\n",
       "      <td>NNE</td>\n",
       "      <td>NW</td>\n",
       "      <td>13.0</td>\n",
       "      <td>...</td>\n",
       "      <td>LOw</td>\n",
       "      <td>1.0</td>\n",
       "      <td>2.0</td>\n",
       "      <td>None</td>\n",
       "      <td>Yes</td>\n",
       "      <td>blue</td>\n",
       "      <td>35.4</td>\n",
       "      <td>2014</td>\n",
       "      <td>11</td>\n",
       "      <td>12</td>\n",
       "    </tr>\n",
       "    <tr>\n",
       "      <th>2</th>\n",
       "      <td>2008-08-08</td>\n",
       "      <td>3</td>\n",
       "      <td>0.0</td>\n",
       "      <td>7.6</td>\n",
       "      <td>11.1</td>\n",
       "      <td>5.0</td>\n",
       "      <td>52.0</td>\n",
       "      <td>SE</td>\n",
       "      <td>E</td>\n",
       "      <td>19.0</td>\n",
       "      <td>...</td>\n",
       "      <td>MEd</td>\n",
       "      <td>0.0</td>\n",
       "      <td>0.0</td>\n",
       "      <td>None</td>\n",
       "      <td>No</td>\n",
       "      <td>blue</td>\n",
       "      <td>32.8</td>\n",
       "      <td>2008</td>\n",
       "      <td>08</td>\n",
       "      <td>08</td>\n",
       "    </tr>\n",
       "    <tr>\n",
       "      <th>3</th>\n",
       "      <td>2015-10-12</td>\n",
       "      <td>2</td>\n",
       "      <td>0.0</td>\n",
       "      <td>7.2</td>\n",
       "      <td>11.4</td>\n",
       "      <td>6.0</td>\n",
       "      <td>31.0</td>\n",
       "      <td>NNW</td>\n",
       "      <td>NE</td>\n",
       "      <td>9.0</td>\n",
       "      <td>...</td>\n",
       "      <td>med</td>\n",
       "      <td>1.0</td>\n",
       "      <td>1.0</td>\n",
       "      <td>No</td>\n",
       "      <td>No</td>\n",
       "      <td>red</td>\n",
       "      <td>31.4</td>\n",
       "      <td>2015</td>\n",
       "      <td>10</td>\n",
       "      <td>12</td>\n",
       "    </tr>\n",
       "    <tr>\n",
       "      <th>4</th>\n",
       "      <td>2013-10-27</td>\n",
       "      <td>3</td>\n",
       "      <td>5.6</td>\n",
       "      <td>7.0</td>\n",
       "      <td>8.5</td>\n",
       "      <td>16.0</td>\n",
       "      <td>33.0</td>\n",
       "      <td>N</td>\n",
       "      <td>N</td>\n",
       "      <td>13.0</td>\n",
       "      <td>...</td>\n",
       "      <td>MeD</td>\n",
       "      <td>6.0</td>\n",
       "      <td>5.0</td>\n",
       "      <td>None</td>\n",
       "      <td>No</td>\n",
       "      <td>grey</td>\n",
       "      <td>35.4</td>\n",
       "      <td>2013</td>\n",
       "      <td>10</td>\n",
       "      <td>27</td>\n",
       "    </tr>\n",
       "    <tr>\n",
       "      <th>...</th>\n",
       "      <td>...</td>\n",
       "      <td>...</td>\n",
       "      <td>...</td>\n",
       "      <td>...</td>\n",
       "      <td>...</td>\n",
       "      <td>...</td>\n",
       "      <td>...</td>\n",
       "      <td>...</td>\n",
       "      <td>...</td>\n",
       "      <td>...</td>\n",
       "      <td>...</td>\n",
       "      <td>...</td>\n",
       "      <td>...</td>\n",
       "      <td>...</td>\n",
       "      <td>...</td>\n",
       "      <td>...</td>\n",
       "      <td>...</td>\n",
       "      <td>...</td>\n",
       "      <td>...</td>\n",
       "      <td>...</td>\n",
       "      <td>...</td>\n",
       "    </tr>\n",
       "    <tr>\n",
       "      <th>12992</th>\n",
       "      <td>2015-06-12</td>\n",
       "      <td>1</td>\n",
       "      <td>0.4</td>\n",
       "      <td>1.6</td>\n",
       "      <td>5.6</td>\n",
       "      <td>2.0</td>\n",
       "      <td>28.0</td>\n",
       "      <td>None</td>\n",
       "      <td>SW</td>\n",
       "      <td>0.0</td>\n",
       "      <td>...</td>\n",
       "      <td>mED</td>\n",
       "      <td>4.0</td>\n",
       "      <td>3.0</td>\n",
       "      <td>No</td>\n",
       "      <td>No</td>\n",
       "      <td>red</td>\n",
       "      <td>29.3</td>\n",
       "      <td>2015</td>\n",
       "      <td>06</td>\n",
       "      <td>12</td>\n",
       "    </tr>\n",
       "    <tr>\n",
       "      <th>12993</th>\n",
       "      <td>2016-09-29</td>\n",
       "      <td>2</td>\n",
       "      <td>0.0</td>\n",
       "      <td>7.4</td>\n",
       "      <td>0.6</td>\n",
       "      <td>16.0</td>\n",
       "      <td>35.0</td>\n",
       "      <td>N</td>\n",
       "      <td>NNW</td>\n",
       "      <td>4.0</td>\n",
       "      <td>...</td>\n",
       "      <td>LoW</td>\n",
       "      <td>7.0</td>\n",
       "      <td>8.0</td>\n",
       "      <td>No</td>\n",
       "      <td>Yes</td>\n",
       "      <td>white</td>\n",
       "      <td>31.3</td>\n",
       "      <td>2016</td>\n",
       "      <td>09</td>\n",
       "      <td>29</td>\n",
       "    </tr>\n",
       "    <tr>\n",
       "      <th>12994</th>\n",
       "      <td>2011-05-14</td>\n",
       "      <td>4</td>\n",
       "      <td>8.0</td>\n",
       "      <td>0.8</td>\n",
       "      <td>5.4</td>\n",
       "      <td>15.0</td>\n",
       "      <td>52.0</td>\n",
       "      <td>WSW</td>\n",
       "      <td>S</td>\n",
       "      <td>24.0</td>\n",
       "      <td>...</td>\n",
       "      <td>HIgH</td>\n",
       "      <td>4.0</td>\n",
       "      <td>4.0</td>\n",
       "      <td>Yes</td>\n",
       "      <td>Yes</td>\n",
       "      <td>grey</td>\n",
       "      <td>26.4</td>\n",
       "      <td>2011</td>\n",
       "      <td>05</td>\n",
       "      <td>14</td>\n",
       "    </tr>\n",
       "    <tr>\n",
       "      <th>12995</th>\n",
       "      <td>2011-02-14</td>\n",
       "      <td>4</td>\n",
       "      <td>4.4</td>\n",
       "      <td>4.4</td>\n",
       "      <td>12.0</td>\n",
       "      <td>15.0</td>\n",
       "      <td>31.0</td>\n",
       "      <td>SSE</td>\n",
       "      <td>SSE</td>\n",
       "      <td>13.0</td>\n",
       "      <td>...</td>\n",
       "      <td>hIgh</td>\n",
       "      <td>5.0</td>\n",
       "      <td>1.0</td>\n",
       "      <td>Yes</td>\n",
       "      <td>No</td>\n",
       "      <td>blue</td>\n",
       "      <td>30.5</td>\n",
       "      <td>2011</td>\n",
       "      <td>02</td>\n",
       "      <td>14</td>\n",
       "    </tr>\n",
       "    <tr>\n",
       "      <th>12996</th>\n",
       "      <td>2016-03-04</td>\n",
       "      <td>2</td>\n",
       "      <td>0.4</td>\n",
       "      <td>8.4</td>\n",
       "      <td>11.1</td>\n",
       "      <td>1.0</td>\n",
       "      <td>33.0</td>\n",
       "      <td>ESE</td>\n",
       "      <td>E</td>\n",
       "      <td>4.0</td>\n",
       "      <td>...</td>\n",
       "      <td>MeD</td>\n",
       "      <td>4.0</td>\n",
       "      <td>2.0</td>\n",
       "      <td>No</td>\n",
       "      <td>No</td>\n",
       "      <td>blue</td>\n",
       "      <td>33.4</td>\n",
       "      <td>2016</td>\n",
       "      <td>03</td>\n",
       "      <td>04</td>\n",
       "    </tr>\n",
       "  </tbody>\n",
       "</table>\n",
       "<p>11718 rows × 24 columns</p>\n",
       "</div>"
      ],
      "text/plain": [
       "             Date  Location  Rainfall  Evaporation  Sunshine  WindGustDir  \\\n",
       "0      2009-03-08         2       0.0          7.0      11.2          1.0   \n",
       "1      2014-11-12         3       0.0          8.4       9.6         10.0   \n",
       "2      2008-08-08         3       0.0          7.6      11.1          5.0   \n",
       "3      2015-10-12         2       0.0          7.2      11.4          6.0   \n",
       "4      2013-10-27         3       5.6          7.0       8.5         16.0   \n",
       "...           ...       ...       ...          ...       ...          ...   \n",
       "12992  2015-06-12         1       0.4          1.6       5.6          2.0   \n",
       "12993  2016-09-29         2       0.0          7.4       0.6         16.0   \n",
       "12994  2011-05-14         4       8.0          0.8       5.4         15.0   \n",
       "12995  2011-02-14         4       4.4          4.4      12.0         15.0   \n",
       "12996  2016-03-04         2       0.4          8.4      11.1          1.0   \n",
       "\n",
       "       WindGustSpeed WindDir9am WindDir3pm  WindSpeed9am  ...  Pressure3pm  \\\n",
       "0               35.0          E        ESE          15.0  ...          Med   \n",
       "1               37.0        NNE         NW          13.0  ...          LOw   \n",
       "2               52.0         SE          E          19.0  ...          MEd   \n",
       "3               31.0        NNW         NE           9.0  ...          med   \n",
       "4               33.0          N          N          13.0  ...          MeD   \n",
       "...              ...        ...        ...           ...  ...          ...   \n",
       "12992           28.0       None         SW           0.0  ...          mED   \n",
       "12993           35.0          N        NNW           4.0  ...          LoW   \n",
       "12994           52.0        WSW          S          24.0  ...         HIgH   \n",
       "12995           31.0        SSE        SSE          13.0  ...         hIgh   \n",
       "12996           33.0        ESE          E           4.0  ...          MeD   \n",
       "\n",
       "       Cloud9am  Cloud3pm RainToday RainTomorrow  ColourOfBoats  AverageTemp  \\\n",
       "0           4.0       5.0        No           No           blue         33.4   \n",
       "1           1.0       2.0      None          Yes           blue         35.4   \n",
       "2           0.0       0.0      None           No           blue         32.8   \n",
       "3           1.0       1.0        No           No            red         31.4   \n",
       "4           6.0       5.0      None           No           grey         35.4   \n",
       "...         ...       ...       ...          ...            ...          ...   \n",
       "12992       4.0       3.0        No           No            red         29.3   \n",
       "12993       7.0       8.0        No          Yes          white         31.3   \n",
       "12994       4.0       4.0       Yes          Yes           grey         26.4   \n",
       "12995       5.0       1.0       Yes           No           blue         30.5   \n",
       "12996       4.0       2.0        No           No           blue         33.4   \n",
       "\n",
       "       Year Month Day  \n",
       "0      2009    03  08  \n",
       "1      2014    11  12  \n",
       "2      2008    08  08  \n",
       "3      2015    10  12  \n",
       "4      2013    10  27  \n",
       "...     ...   ...  ..  \n",
       "12992  2015    06  12  \n",
       "12993  2016    09  29  \n",
       "12994  2011    05  14  \n",
       "12995  2011    02  14  \n",
       "12996  2016    03  04  \n",
       "\n",
       "[11718 rows x 24 columns]"
      ]
     },
     "execution_count": 738,
     "metadata": {},
     "output_type": "execute_result"
    }
   ],
   "source": [
    "df_final"
   ]
  },
  {
   "cell_type": "code",
   "execution_count": null,
   "id": "815a2be9",
   "metadata": {},
   "outputs": [],
   "source": []
  },
  {
   "cell_type": "code",
   "execution_count": 744,
   "id": "1f07c5a8",
   "metadata": {},
   "outputs": [],
   "source": [
    "#Apply ordinal encoding for convert categorical to numerical for winddirection\n",
    "temp_dict={'E': 1,'SW': 2,'SE': 3,'N': 4,'ESE': 5,'ENE': 6,'NE': 7,'WSW': 8,'SSE': 9,'W': 10,'SSW': 11,'S': 12,'NNE': 13,'WNW': 14,'NNW': 15,'NW': 16}\n",
    "df_final[\"WindDir9am\"] = df_final.WindDir9am.map(temp_dict)\n",
    "df_final[\"WindDir3pm\"] = df_final.WindDir3pm.map(temp_dict)"
   ]
  },
  {
   "cell_type": "code",
   "execution_count": 745,
   "id": "7d31ac63",
   "metadata": {},
   "outputs": [
    {
     "data": {
      "text/html": [
       "<div>\n",
       "<style scoped>\n",
       "    .dataframe tbody tr th:only-of-type {\n",
       "        vertical-align: middle;\n",
       "    }\n",
       "\n",
       "    .dataframe tbody tr th {\n",
       "        vertical-align: top;\n",
       "    }\n",
       "\n",
       "    .dataframe thead th {\n",
       "        text-align: right;\n",
       "    }\n",
       "</style>\n",
       "<table border=\"1\" class=\"dataframe\">\n",
       "  <thead>\n",
       "    <tr style=\"text-align: right;\">\n",
       "      <th></th>\n",
       "      <th>Date</th>\n",
       "      <th>Location</th>\n",
       "      <th>Rainfall</th>\n",
       "      <th>Evaporation</th>\n",
       "      <th>Sunshine</th>\n",
       "      <th>WindGustDir</th>\n",
       "      <th>WindGustSpeed</th>\n",
       "      <th>WindDir9am</th>\n",
       "      <th>WindDir3pm</th>\n",
       "      <th>WindSpeed9am</th>\n",
       "      <th>...</th>\n",
       "      <th>Pressure3pm</th>\n",
       "      <th>Cloud9am</th>\n",
       "      <th>Cloud3pm</th>\n",
       "      <th>RainToday</th>\n",
       "      <th>RainTomorrow</th>\n",
       "      <th>ColourOfBoats</th>\n",
       "      <th>AverageTemp</th>\n",
       "      <th>Year</th>\n",
       "      <th>Month</th>\n",
       "      <th>Day</th>\n",
       "    </tr>\n",
       "  </thead>\n",
       "  <tbody>\n",
       "    <tr>\n",
       "      <th>0</th>\n",
       "      <td>2009-03-08</td>\n",
       "      <td>2</td>\n",
       "      <td>0.0</td>\n",
       "      <td>7.0</td>\n",
       "      <td>11.2</td>\n",
       "      <td>1.0</td>\n",
       "      <td>35.0</td>\n",
       "      <td>1.0</td>\n",
       "      <td>5.0</td>\n",
       "      <td>15.0</td>\n",
       "      <td>...</td>\n",
       "      <td>Med</td>\n",
       "      <td>4.0</td>\n",
       "      <td>5.0</td>\n",
       "      <td>No</td>\n",
       "      <td>No</td>\n",
       "      <td>blue</td>\n",
       "      <td>33.4</td>\n",
       "      <td>2009</td>\n",
       "      <td>03</td>\n",
       "      <td>08</td>\n",
       "    </tr>\n",
       "    <tr>\n",
       "      <th>1</th>\n",
       "      <td>2014-11-12</td>\n",
       "      <td>3</td>\n",
       "      <td>0.0</td>\n",
       "      <td>8.4</td>\n",
       "      <td>9.6</td>\n",
       "      <td>10.0</td>\n",
       "      <td>37.0</td>\n",
       "      <td>13.0</td>\n",
       "      <td>16.0</td>\n",
       "      <td>13.0</td>\n",
       "      <td>...</td>\n",
       "      <td>LOw</td>\n",
       "      <td>1.0</td>\n",
       "      <td>2.0</td>\n",
       "      <td>None</td>\n",
       "      <td>Yes</td>\n",
       "      <td>blue</td>\n",
       "      <td>35.4</td>\n",
       "      <td>2014</td>\n",
       "      <td>11</td>\n",
       "      <td>12</td>\n",
       "    </tr>\n",
       "    <tr>\n",
       "      <th>2</th>\n",
       "      <td>2008-08-08</td>\n",
       "      <td>3</td>\n",
       "      <td>0.0</td>\n",
       "      <td>7.6</td>\n",
       "      <td>11.1</td>\n",
       "      <td>5.0</td>\n",
       "      <td>52.0</td>\n",
       "      <td>3.0</td>\n",
       "      <td>1.0</td>\n",
       "      <td>19.0</td>\n",
       "      <td>...</td>\n",
       "      <td>MEd</td>\n",
       "      <td>0.0</td>\n",
       "      <td>0.0</td>\n",
       "      <td>None</td>\n",
       "      <td>No</td>\n",
       "      <td>blue</td>\n",
       "      <td>32.8</td>\n",
       "      <td>2008</td>\n",
       "      <td>08</td>\n",
       "      <td>08</td>\n",
       "    </tr>\n",
       "    <tr>\n",
       "      <th>3</th>\n",
       "      <td>2015-10-12</td>\n",
       "      <td>2</td>\n",
       "      <td>0.0</td>\n",
       "      <td>7.2</td>\n",
       "      <td>11.4</td>\n",
       "      <td>6.0</td>\n",
       "      <td>31.0</td>\n",
       "      <td>15.0</td>\n",
       "      <td>7.0</td>\n",
       "      <td>9.0</td>\n",
       "      <td>...</td>\n",
       "      <td>med</td>\n",
       "      <td>1.0</td>\n",
       "      <td>1.0</td>\n",
       "      <td>No</td>\n",
       "      <td>No</td>\n",
       "      <td>red</td>\n",
       "      <td>31.4</td>\n",
       "      <td>2015</td>\n",
       "      <td>10</td>\n",
       "      <td>12</td>\n",
       "    </tr>\n",
       "    <tr>\n",
       "      <th>4</th>\n",
       "      <td>2013-10-27</td>\n",
       "      <td>3</td>\n",
       "      <td>5.6</td>\n",
       "      <td>7.0</td>\n",
       "      <td>8.5</td>\n",
       "      <td>16.0</td>\n",
       "      <td>33.0</td>\n",
       "      <td>4.0</td>\n",
       "      <td>4.0</td>\n",
       "      <td>13.0</td>\n",
       "      <td>...</td>\n",
       "      <td>MeD</td>\n",
       "      <td>6.0</td>\n",
       "      <td>5.0</td>\n",
       "      <td>None</td>\n",
       "      <td>No</td>\n",
       "      <td>grey</td>\n",
       "      <td>35.4</td>\n",
       "      <td>2013</td>\n",
       "      <td>10</td>\n",
       "      <td>27</td>\n",
       "    </tr>\n",
       "    <tr>\n",
       "      <th>...</th>\n",
       "      <td>...</td>\n",
       "      <td>...</td>\n",
       "      <td>...</td>\n",
       "      <td>...</td>\n",
       "      <td>...</td>\n",
       "      <td>...</td>\n",
       "      <td>...</td>\n",
       "      <td>...</td>\n",
       "      <td>...</td>\n",
       "      <td>...</td>\n",
       "      <td>...</td>\n",
       "      <td>...</td>\n",
       "      <td>...</td>\n",
       "      <td>...</td>\n",
       "      <td>...</td>\n",
       "      <td>...</td>\n",
       "      <td>...</td>\n",
       "      <td>...</td>\n",
       "      <td>...</td>\n",
       "      <td>...</td>\n",
       "      <td>...</td>\n",
       "    </tr>\n",
       "    <tr>\n",
       "      <th>12992</th>\n",
       "      <td>2015-06-12</td>\n",
       "      <td>1</td>\n",
       "      <td>0.4</td>\n",
       "      <td>1.6</td>\n",
       "      <td>5.6</td>\n",
       "      <td>2.0</td>\n",
       "      <td>28.0</td>\n",
       "      <td>NaN</td>\n",
       "      <td>2.0</td>\n",
       "      <td>0.0</td>\n",
       "      <td>...</td>\n",
       "      <td>mED</td>\n",
       "      <td>4.0</td>\n",
       "      <td>3.0</td>\n",
       "      <td>No</td>\n",
       "      <td>No</td>\n",
       "      <td>red</td>\n",
       "      <td>29.3</td>\n",
       "      <td>2015</td>\n",
       "      <td>06</td>\n",
       "      <td>12</td>\n",
       "    </tr>\n",
       "    <tr>\n",
       "      <th>12993</th>\n",
       "      <td>2016-09-29</td>\n",
       "      <td>2</td>\n",
       "      <td>0.0</td>\n",
       "      <td>7.4</td>\n",
       "      <td>0.6</td>\n",
       "      <td>16.0</td>\n",
       "      <td>35.0</td>\n",
       "      <td>4.0</td>\n",
       "      <td>15.0</td>\n",
       "      <td>4.0</td>\n",
       "      <td>...</td>\n",
       "      <td>LoW</td>\n",
       "      <td>7.0</td>\n",
       "      <td>8.0</td>\n",
       "      <td>No</td>\n",
       "      <td>Yes</td>\n",
       "      <td>white</td>\n",
       "      <td>31.3</td>\n",
       "      <td>2016</td>\n",
       "      <td>09</td>\n",
       "      <td>29</td>\n",
       "    </tr>\n",
       "    <tr>\n",
       "      <th>12994</th>\n",
       "      <td>2011-05-14</td>\n",
       "      <td>4</td>\n",
       "      <td>8.0</td>\n",
       "      <td>0.8</td>\n",
       "      <td>5.4</td>\n",
       "      <td>15.0</td>\n",
       "      <td>52.0</td>\n",
       "      <td>8.0</td>\n",
       "      <td>12.0</td>\n",
       "      <td>24.0</td>\n",
       "      <td>...</td>\n",
       "      <td>HIgH</td>\n",
       "      <td>4.0</td>\n",
       "      <td>4.0</td>\n",
       "      <td>Yes</td>\n",
       "      <td>Yes</td>\n",
       "      <td>grey</td>\n",
       "      <td>26.4</td>\n",
       "      <td>2011</td>\n",
       "      <td>05</td>\n",
       "      <td>14</td>\n",
       "    </tr>\n",
       "    <tr>\n",
       "      <th>12995</th>\n",
       "      <td>2011-02-14</td>\n",
       "      <td>4</td>\n",
       "      <td>4.4</td>\n",
       "      <td>4.4</td>\n",
       "      <td>12.0</td>\n",
       "      <td>15.0</td>\n",
       "      <td>31.0</td>\n",
       "      <td>9.0</td>\n",
       "      <td>9.0</td>\n",
       "      <td>13.0</td>\n",
       "      <td>...</td>\n",
       "      <td>hIgh</td>\n",
       "      <td>5.0</td>\n",
       "      <td>1.0</td>\n",
       "      <td>Yes</td>\n",
       "      <td>No</td>\n",
       "      <td>blue</td>\n",
       "      <td>30.5</td>\n",
       "      <td>2011</td>\n",
       "      <td>02</td>\n",
       "      <td>14</td>\n",
       "    </tr>\n",
       "    <tr>\n",
       "      <th>12996</th>\n",
       "      <td>2016-03-04</td>\n",
       "      <td>2</td>\n",
       "      <td>0.4</td>\n",
       "      <td>8.4</td>\n",
       "      <td>11.1</td>\n",
       "      <td>1.0</td>\n",
       "      <td>33.0</td>\n",
       "      <td>5.0</td>\n",
       "      <td>1.0</td>\n",
       "      <td>4.0</td>\n",
       "      <td>...</td>\n",
       "      <td>MeD</td>\n",
       "      <td>4.0</td>\n",
       "      <td>2.0</td>\n",
       "      <td>No</td>\n",
       "      <td>No</td>\n",
       "      <td>blue</td>\n",
       "      <td>33.4</td>\n",
       "      <td>2016</td>\n",
       "      <td>03</td>\n",
       "      <td>04</td>\n",
       "    </tr>\n",
       "  </tbody>\n",
       "</table>\n",
       "<p>11718 rows × 24 columns</p>\n",
       "</div>"
      ],
      "text/plain": [
       "             Date  Location  Rainfall  Evaporation  Sunshine  WindGustDir  \\\n",
       "0      2009-03-08         2       0.0          7.0      11.2          1.0   \n",
       "1      2014-11-12         3       0.0          8.4       9.6         10.0   \n",
       "2      2008-08-08         3       0.0          7.6      11.1          5.0   \n",
       "3      2015-10-12         2       0.0          7.2      11.4          6.0   \n",
       "4      2013-10-27         3       5.6          7.0       8.5         16.0   \n",
       "...           ...       ...       ...          ...       ...          ...   \n",
       "12992  2015-06-12         1       0.4          1.6       5.6          2.0   \n",
       "12993  2016-09-29         2       0.0          7.4       0.6         16.0   \n",
       "12994  2011-05-14         4       8.0          0.8       5.4         15.0   \n",
       "12995  2011-02-14         4       4.4          4.4      12.0         15.0   \n",
       "12996  2016-03-04         2       0.4          8.4      11.1          1.0   \n",
       "\n",
       "       WindGustSpeed  WindDir9am  WindDir3pm  WindSpeed9am  ...  Pressure3pm  \\\n",
       "0               35.0         1.0         5.0          15.0  ...          Med   \n",
       "1               37.0        13.0        16.0          13.0  ...          LOw   \n",
       "2               52.0         3.0         1.0          19.0  ...          MEd   \n",
       "3               31.0        15.0         7.0           9.0  ...          med   \n",
       "4               33.0         4.0         4.0          13.0  ...          MeD   \n",
       "...              ...         ...         ...           ...  ...          ...   \n",
       "12992           28.0         NaN         2.0           0.0  ...          mED   \n",
       "12993           35.0         4.0        15.0           4.0  ...          LoW   \n",
       "12994           52.0         8.0        12.0          24.0  ...         HIgH   \n",
       "12995           31.0         9.0         9.0          13.0  ...         hIgh   \n",
       "12996           33.0         5.0         1.0           4.0  ...          MeD   \n",
       "\n",
       "       Cloud9am  Cloud3pm RainToday RainTomorrow  ColourOfBoats  AverageTemp  \\\n",
       "0           4.0       5.0        No           No           blue         33.4   \n",
       "1           1.0       2.0      None          Yes           blue         35.4   \n",
       "2           0.0       0.0      None           No           blue         32.8   \n",
       "3           1.0       1.0        No           No            red         31.4   \n",
       "4           6.0       5.0      None           No           grey         35.4   \n",
       "...         ...       ...       ...          ...            ...          ...   \n",
       "12992       4.0       3.0        No           No            red         29.3   \n",
       "12993       7.0       8.0        No          Yes          white         31.3   \n",
       "12994       4.0       4.0       Yes          Yes           grey         26.4   \n",
       "12995       5.0       1.0       Yes           No           blue         30.5   \n",
       "12996       4.0       2.0        No           No           blue         33.4   \n",
       "\n",
       "       Year Month Day  \n",
       "0      2009    03  08  \n",
       "1      2014    11  12  \n",
       "2      2008    08  08  \n",
       "3      2015    10  12  \n",
       "4      2013    10  27  \n",
       "...     ...   ...  ..  \n",
       "12992  2015    06  12  \n",
       "12993  2016    09  29  \n",
       "12994  2011    05  14  \n",
       "12995  2011    02  14  \n",
       "12996  2016    03  04  \n",
       "\n",
       "[11718 rows x 24 columns]"
      ]
     },
     "execution_count": 745,
     "metadata": {},
     "output_type": "execute_result"
    }
   ],
   "source": [
    "df_final"
   ]
  },
  {
   "cell_type": "code",
   "execution_count": null,
   "id": "8992dc4f",
   "metadata": {},
   "outputs": [],
   "source": []
  },
  {
   "cell_type": "code",
   "execution_count": 754,
   "id": "84d96d7f",
   "metadata": {},
   "outputs": [
    {
     "name": "stdout",
     "output_type": "stream",
     "text": [
      "meD     968\n",
      "Med     922\n",
      "MEd     917\n",
      "mEd     909\n",
      "MeD     907\n",
      "med     891\n",
      "mED     882\n",
      "MED     852\n",
      "lOw     259\n",
      "lOW     253\n",
      "Low     251\n",
      "LoW     227\n",
      "loW     224\n",
      "LOw     224\n",
      "LOW     223\n",
      "low     215\n",
      "hIGh    183\n",
      "HIgH    174\n",
      "HiGH    172\n",
      "hIgH    171\n",
      "high    171\n",
      "High    171\n",
      "hIgh    169\n",
      "hiGH    164\n",
      "HigH    160\n",
      "HIgh    157\n",
      "higH    157\n",
      "HIGH    156\n",
      "hiGh    156\n",
      "HiGh    153\n",
      "hIGH    141\n",
      "HIGh    137\n",
      "Name: Pressure9am, dtype: int64\n",
      "mEd     913\n",
      "mED     904\n",
      "meD     898\n",
      "MeD     884\n",
      "MEd     883\n",
      "med     882\n",
      "Med     863\n",
      "MED     826\n",
      "Low     287\n",
      "low     269\n",
      "LoW     264\n",
      "LOW     261\n",
      "lOw     252\n",
      "lOW     241\n",
      "LOw     238\n",
      "loW     230\n",
      "high    189\n",
      "High    187\n",
      "HIGH    181\n",
      "HiGh    181\n",
      "hiGH    175\n",
      "hiGh    172\n",
      "hIgh    168\n",
      "higH    165\n",
      "hIgH    161\n",
      "HigH    158\n",
      "HIgH    151\n",
      "HIgh    150\n",
      "hIGH    149\n",
      "hIGh    149\n",
      "HIGh    145\n",
      "HiGH    134\n",
      "Name: Pressure3pm, dtype: int64\n"
     ]
    }
   ],
   "source": [
    "# for pressure\n",
    "print(df_final['Pressure9am'].value_counts())\n",
    "print(df_final['Pressure3pm'].value_counts())"
   ]
  },
  {
   "cell_type": "code",
   "execution_count": 757,
   "id": "cbb25c7c",
   "metadata": {},
   "outputs": [],
   "source": [
    "#convert both feature values to upper case\n",
    "df_final['Pressure9am']=df_final['Pressure9am'].str.upper()\n",
    "df_final['Pressure3pm']=df_final['Pressure3pm'].str.upper()"
   ]
  },
  {
   "cell_type": "code",
   "execution_count": 758,
   "id": "e2b42416",
   "metadata": {},
   "outputs": [
    {
     "name": "stdout",
     "output_type": "stream",
     "text": [
      "MED     7248\n",
      "HIGH    2592\n",
      "LOW     1876\n",
      "Name: Pressure9am, dtype: int64\n",
      "MED     7053\n",
      "HIGH    2615\n",
      "LOW     2042\n",
      "Name: Pressure3pm, dtype: int64\n"
     ]
    }
   ],
   "source": [
    "print(df_final['Pressure9am'].value_counts())\n",
    "print(df_final['Pressure3pm'].value_counts())"
   ]
  },
  {
   "cell_type": "code",
   "execution_count": 760,
   "id": "8b46e395",
   "metadata": {},
   "outputs": [],
   "source": [
    "temp_dict={'MED':1, 'HIGH':2, 'LOW':3}\n",
    "df_final[\"Pressure9am\"] = df_final.Pressure9am.map(temp_dict)\n",
    "df_final[\"Pressure3pm\"] = df_final.Pressure3pm.map(temp_dict)"
   ]
  },
  {
   "cell_type": "code",
   "execution_count": 761,
   "id": "d3674df3",
   "metadata": {},
   "outputs": [
    {
     "data": {
      "text/html": [
       "<div>\n",
       "<style scoped>\n",
       "    .dataframe tbody tr th:only-of-type {\n",
       "        vertical-align: middle;\n",
       "    }\n",
       "\n",
       "    .dataframe tbody tr th {\n",
       "        vertical-align: top;\n",
       "    }\n",
       "\n",
       "    .dataframe thead th {\n",
       "        text-align: right;\n",
       "    }\n",
       "</style>\n",
       "<table border=\"1\" class=\"dataframe\">\n",
       "  <thead>\n",
       "    <tr style=\"text-align: right;\">\n",
       "      <th></th>\n",
       "      <th>Date</th>\n",
       "      <th>Location</th>\n",
       "      <th>Rainfall</th>\n",
       "      <th>Evaporation</th>\n",
       "      <th>Sunshine</th>\n",
       "      <th>WindGustDir</th>\n",
       "      <th>WindGustSpeed</th>\n",
       "      <th>WindDir9am</th>\n",
       "      <th>WindDir3pm</th>\n",
       "      <th>WindSpeed9am</th>\n",
       "      <th>...</th>\n",
       "      <th>Pressure3pm</th>\n",
       "      <th>Cloud9am</th>\n",
       "      <th>Cloud3pm</th>\n",
       "      <th>RainToday</th>\n",
       "      <th>RainTomorrow</th>\n",
       "      <th>ColourOfBoats</th>\n",
       "      <th>AverageTemp</th>\n",
       "      <th>Year</th>\n",
       "      <th>Month</th>\n",
       "      <th>Day</th>\n",
       "    </tr>\n",
       "  </thead>\n",
       "  <tbody>\n",
       "    <tr>\n",
       "      <th>0</th>\n",
       "      <td>2009-03-08</td>\n",
       "      <td>2</td>\n",
       "      <td>0.0</td>\n",
       "      <td>7.0</td>\n",
       "      <td>11.2</td>\n",
       "      <td>1.0</td>\n",
       "      <td>35.0</td>\n",
       "      <td>1.0</td>\n",
       "      <td>5.0</td>\n",
       "      <td>15.0</td>\n",
       "      <td>...</td>\n",
       "      <td>1.0</td>\n",
       "      <td>4.0</td>\n",
       "      <td>5.0</td>\n",
       "      <td>No</td>\n",
       "      <td>No</td>\n",
       "      <td>blue</td>\n",
       "      <td>33.4</td>\n",
       "      <td>2009</td>\n",
       "      <td>03</td>\n",
       "      <td>08</td>\n",
       "    </tr>\n",
       "    <tr>\n",
       "      <th>1</th>\n",
       "      <td>2014-11-12</td>\n",
       "      <td>3</td>\n",
       "      <td>0.0</td>\n",
       "      <td>8.4</td>\n",
       "      <td>9.6</td>\n",
       "      <td>10.0</td>\n",
       "      <td>37.0</td>\n",
       "      <td>13.0</td>\n",
       "      <td>16.0</td>\n",
       "      <td>13.0</td>\n",
       "      <td>...</td>\n",
       "      <td>3.0</td>\n",
       "      <td>1.0</td>\n",
       "      <td>2.0</td>\n",
       "      <td>None</td>\n",
       "      <td>Yes</td>\n",
       "      <td>blue</td>\n",
       "      <td>35.4</td>\n",
       "      <td>2014</td>\n",
       "      <td>11</td>\n",
       "      <td>12</td>\n",
       "    </tr>\n",
       "    <tr>\n",
       "      <th>2</th>\n",
       "      <td>2008-08-08</td>\n",
       "      <td>3</td>\n",
       "      <td>0.0</td>\n",
       "      <td>7.6</td>\n",
       "      <td>11.1</td>\n",
       "      <td>5.0</td>\n",
       "      <td>52.0</td>\n",
       "      <td>3.0</td>\n",
       "      <td>1.0</td>\n",
       "      <td>19.0</td>\n",
       "      <td>...</td>\n",
       "      <td>1.0</td>\n",
       "      <td>0.0</td>\n",
       "      <td>0.0</td>\n",
       "      <td>None</td>\n",
       "      <td>No</td>\n",
       "      <td>blue</td>\n",
       "      <td>32.8</td>\n",
       "      <td>2008</td>\n",
       "      <td>08</td>\n",
       "      <td>08</td>\n",
       "    </tr>\n",
       "    <tr>\n",
       "      <th>3</th>\n",
       "      <td>2015-10-12</td>\n",
       "      <td>2</td>\n",
       "      <td>0.0</td>\n",
       "      <td>7.2</td>\n",
       "      <td>11.4</td>\n",
       "      <td>6.0</td>\n",
       "      <td>31.0</td>\n",
       "      <td>15.0</td>\n",
       "      <td>7.0</td>\n",
       "      <td>9.0</td>\n",
       "      <td>...</td>\n",
       "      <td>1.0</td>\n",
       "      <td>1.0</td>\n",
       "      <td>1.0</td>\n",
       "      <td>No</td>\n",
       "      <td>No</td>\n",
       "      <td>red</td>\n",
       "      <td>31.4</td>\n",
       "      <td>2015</td>\n",
       "      <td>10</td>\n",
       "      <td>12</td>\n",
       "    </tr>\n",
       "    <tr>\n",
       "      <th>4</th>\n",
       "      <td>2013-10-27</td>\n",
       "      <td>3</td>\n",
       "      <td>5.6</td>\n",
       "      <td>7.0</td>\n",
       "      <td>8.5</td>\n",
       "      <td>16.0</td>\n",
       "      <td>33.0</td>\n",
       "      <td>4.0</td>\n",
       "      <td>4.0</td>\n",
       "      <td>13.0</td>\n",
       "      <td>...</td>\n",
       "      <td>1.0</td>\n",
       "      <td>6.0</td>\n",
       "      <td>5.0</td>\n",
       "      <td>None</td>\n",
       "      <td>No</td>\n",
       "      <td>grey</td>\n",
       "      <td>35.4</td>\n",
       "      <td>2013</td>\n",
       "      <td>10</td>\n",
       "      <td>27</td>\n",
       "    </tr>\n",
       "    <tr>\n",
       "      <th>...</th>\n",
       "      <td>...</td>\n",
       "      <td>...</td>\n",
       "      <td>...</td>\n",
       "      <td>...</td>\n",
       "      <td>...</td>\n",
       "      <td>...</td>\n",
       "      <td>...</td>\n",
       "      <td>...</td>\n",
       "      <td>...</td>\n",
       "      <td>...</td>\n",
       "      <td>...</td>\n",
       "      <td>...</td>\n",
       "      <td>...</td>\n",
       "      <td>...</td>\n",
       "      <td>...</td>\n",
       "      <td>...</td>\n",
       "      <td>...</td>\n",
       "      <td>...</td>\n",
       "      <td>...</td>\n",
       "      <td>...</td>\n",
       "      <td>...</td>\n",
       "    </tr>\n",
       "    <tr>\n",
       "      <th>12992</th>\n",
       "      <td>2015-06-12</td>\n",
       "      <td>1</td>\n",
       "      <td>0.4</td>\n",
       "      <td>1.6</td>\n",
       "      <td>5.6</td>\n",
       "      <td>2.0</td>\n",
       "      <td>28.0</td>\n",
       "      <td>NaN</td>\n",
       "      <td>2.0</td>\n",
       "      <td>0.0</td>\n",
       "      <td>...</td>\n",
       "      <td>1.0</td>\n",
       "      <td>4.0</td>\n",
       "      <td>3.0</td>\n",
       "      <td>No</td>\n",
       "      <td>No</td>\n",
       "      <td>red</td>\n",
       "      <td>29.3</td>\n",
       "      <td>2015</td>\n",
       "      <td>06</td>\n",
       "      <td>12</td>\n",
       "    </tr>\n",
       "    <tr>\n",
       "      <th>12993</th>\n",
       "      <td>2016-09-29</td>\n",
       "      <td>2</td>\n",
       "      <td>0.0</td>\n",
       "      <td>7.4</td>\n",
       "      <td>0.6</td>\n",
       "      <td>16.0</td>\n",
       "      <td>35.0</td>\n",
       "      <td>4.0</td>\n",
       "      <td>15.0</td>\n",
       "      <td>4.0</td>\n",
       "      <td>...</td>\n",
       "      <td>3.0</td>\n",
       "      <td>7.0</td>\n",
       "      <td>8.0</td>\n",
       "      <td>No</td>\n",
       "      <td>Yes</td>\n",
       "      <td>white</td>\n",
       "      <td>31.3</td>\n",
       "      <td>2016</td>\n",
       "      <td>09</td>\n",
       "      <td>29</td>\n",
       "    </tr>\n",
       "    <tr>\n",
       "      <th>12994</th>\n",
       "      <td>2011-05-14</td>\n",
       "      <td>4</td>\n",
       "      <td>8.0</td>\n",
       "      <td>0.8</td>\n",
       "      <td>5.4</td>\n",
       "      <td>15.0</td>\n",
       "      <td>52.0</td>\n",
       "      <td>8.0</td>\n",
       "      <td>12.0</td>\n",
       "      <td>24.0</td>\n",
       "      <td>...</td>\n",
       "      <td>2.0</td>\n",
       "      <td>4.0</td>\n",
       "      <td>4.0</td>\n",
       "      <td>Yes</td>\n",
       "      <td>Yes</td>\n",
       "      <td>grey</td>\n",
       "      <td>26.4</td>\n",
       "      <td>2011</td>\n",
       "      <td>05</td>\n",
       "      <td>14</td>\n",
       "    </tr>\n",
       "    <tr>\n",
       "      <th>12995</th>\n",
       "      <td>2011-02-14</td>\n",
       "      <td>4</td>\n",
       "      <td>4.4</td>\n",
       "      <td>4.4</td>\n",
       "      <td>12.0</td>\n",
       "      <td>15.0</td>\n",
       "      <td>31.0</td>\n",
       "      <td>9.0</td>\n",
       "      <td>9.0</td>\n",
       "      <td>13.0</td>\n",
       "      <td>...</td>\n",
       "      <td>2.0</td>\n",
       "      <td>5.0</td>\n",
       "      <td>1.0</td>\n",
       "      <td>Yes</td>\n",
       "      <td>No</td>\n",
       "      <td>blue</td>\n",
       "      <td>30.5</td>\n",
       "      <td>2011</td>\n",
       "      <td>02</td>\n",
       "      <td>14</td>\n",
       "    </tr>\n",
       "    <tr>\n",
       "      <th>12996</th>\n",
       "      <td>2016-03-04</td>\n",
       "      <td>2</td>\n",
       "      <td>0.4</td>\n",
       "      <td>8.4</td>\n",
       "      <td>11.1</td>\n",
       "      <td>1.0</td>\n",
       "      <td>33.0</td>\n",
       "      <td>5.0</td>\n",
       "      <td>1.0</td>\n",
       "      <td>4.0</td>\n",
       "      <td>...</td>\n",
       "      <td>1.0</td>\n",
       "      <td>4.0</td>\n",
       "      <td>2.0</td>\n",
       "      <td>No</td>\n",
       "      <td>No</td>\n",
       "      <td>blue</td>\n",
       "      <td>33.4</td>\n",
       "      <td>2016</td>\n",
       "      <td>03</td>\n",
       "      <td>04</td>\n",
       "    </tr>\n",
       "  </tbody>\n",
       "</table>\n",
       "<p>11718 rows × 24 columns</p>\n",
       "</div>"
      ],
      "text/plain": [
       "             Date  Location  Rainfall  Evaporation  Sunshine  WindGustDir  \\\n",
       "0      2009-03-08         2       0.0          7.0      11.2          1.0   \n",
       "1      2014-11-12         3       0.0          8.4       9.6         10.0   \n",
       "2      2008-08-08         3       0.0          7.6      11.1          5.0   \n",
       "3      2015-10-12         2       0.0          7.2      11.4          6.0   \n",
       "4      2013-10-27         3       5.6          7.0       8.5         16.0   \n",
       "...           ...       ...       ...          ...       ...          ...   \n",
       "12992  2015-06-12         1       0.4          1.6       5.6          2.0   \n",
       "12993  2016-09-29         2       0.0          7.4       0.6         16.0   \n",
       "12994  2011-05-14         4       8.0          0.8       5.4         15.0   \n",
       "12995  2011-02-14         4       4.4          4.4      12.0         15.0   \n",
       "12996  2016-03-04         2       0.4          8.4      11.1          1.0   \n",
       "\n",
       "       WindGustSpeed  WindDir9am  WindDir3pm  WindSpeed9am  ...  Pressure3pm  \\\n",
       "0               35.0         1.0         5.0          15.0  ...          1.0   \n",
       "1               37.0        13.0        16.0          13.0  ...          3.0   \n",
       "2               52.0         3.0         1.0          19.0  ...          1.0   \n",
       "3               31.0        15.0         7.0           9.0  ...          1.0   \n",
       "4               33.0         4.0         4.0          13.0  ...          1.0   \n",
       "...              ...         ...         ...           ...  ...          ...   \n",
       "12992           28.0         NaN         2.0           0.0  ...          1.0   \n",
       "12993           35.0         4.0        15.0           4.0  ...          3.0   \n",
       "12994           52.0         8.0        12.0          24.0  ...          2.0   \n",
       "12995           31.0         9.0         9.0          13.0  ...          2.0   \n",
       "12996           33.0         5.0         1.0           4.0  ...          1.0   \n",
       "\n",
       "       Cloud9am  Cloud3pm  RainToday  RainTomorrow  ColourOfBoats  \\\n",
       "0           4.0       5.0         No            No           blue   \n",
       "1           1.0       2.0       None           Yes           blue   \n",
       "2           0.0       0.0       None            No           blue   \n",
       "3           1.0       1.0         No            No            red   \n",
       "4           6.0       5.0       None            No           grey   \n",
       "...         ...       ...        ...           ...            ...   \n",
       "12992       4.0       3.0         No            No            red   \n",
       "12993       7.0       8.0         No           Yes          white   \n",
       "12994       4.0       4.0        Yes           Yes           grey   \n",
       "12995       5.0       1.0        Yes            No           blue   \n",
       "12996       4.0       2.0         No            No           blue   \n",
       "\n",
       "       AverageTemp  Year Month Day  \n",
       "0             33.4  2009    03  08  \n",
       "1             35.4  2014    11  12  \n",
       "2             32.8  2008    08  08  \n",
       "3             31.4  2015    10  12  \n",
       "4             35.4  2013    10  27  \n",
       "...            ...   ...   ...  ..  \n",
       "12992         29.3  2015    06  12  \n",
       "12993         31.3  2016    09  29  \n",
       "12994         26.4  2011    05  14  \n",
       "12995         30.5  2011    02  14  \n",
       "12996         33.4  2016    03  04  \n",
       "\n",
       "[11718 rows x 24 columns]"
      ]
     },
     "execution_count": 761,
     "metadata": {},
     "output_type": "execute_result"
    }
   ],
   "source": [
    "#For rain today and rain tomorrow\n",
    "temp_dict={'None':1, 'No':2, 'Yes':3}\n",
    "# rain today and tommorow count values and map"
   ]
  },
  {
   "cell_type": "code",
   "execution_count": null,
   "id": "818cf3a9",
   "metadata": {},
   "outputs": [],
   "source": []
  }
 ],
 "metadata": {
  "kernelspec": {
   "display_name": "Python 3 (ipykernel)",
   "language": "python",
   "name": "python3"
  },
  "language_info": {
   "codemirror_mode": {
    "name": "ipython",
    "version": 3
   },
   "file_extension": ".py",
   "mimetype": "text/x-python",
   "name": "python",
   "nbconvert_exporter": "python",
   "pygments_lexer": "ipython3",
   "version": "3.9.12"
  }
 },
 "nbformat": 4,
 "nbformat_minor": 5
}
